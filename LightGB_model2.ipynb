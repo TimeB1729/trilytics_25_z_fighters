{
 "cells": [
  {
   "cell_type": "markdown",
   "id": "030ad04e-675e-4fd4-af18-d96a9fad91c1",
   "metadata": {},
   "source": [
    "# Initializing environment"
   ]
  },
  {
   "cell_type": "code",
   "execution_count": 1,
   "id": "ce0a40cd-07a5-4224-bcee-c4d770f2c38b",
   "metadata": {},
   "outputs": [],
   "source": [
    "import numpy as np\n",
    "import os\n",
    "\n",
    "# To make the output stable across other runs\n",
    "np.random.seed(42)\n",
    "\n",
    "# To plot pretty figures\n",
    "%matplotlib inline\n",
    "import matplotlib as mpl\n",
    "import matplotlib.pyplot as plt\n",
    "mpl.rc('axes', labelsize=14)\n",
    "mpl.rc('xtick', labelsize=12)\n",
    "mpl.rc('ytick', labelsize=12)\n",
    "\n",
    "# Where to save the figures\n",
    "PROJECT_ROOT_DIR = \".\"\n",
    "CHAPTER_ID = \"training_farmer_income_models\"\n",
    "IMAGES_PATH = os.path.join(PROJECT_ROOT_DIR, \"images\", CHAPTER_ID)\n",
    "os.makedirs(IMAGES_PATH, exist_ok=True)\n",
    "\n",
    "def save_fig(fig_id, tight_layout=True, fig_extension=\"png\", resolution=300):\n",
    "    path = os.path.join(IMAGES_PATH, fig_id + \".\" + fig_extension)\n",
    "    print(\"Saving figure\", fig_id)\n",
    "    if tight_layout:\n",
    "        plt.tight_layout()\n",
    "    plt.savefig(path, format=fig_extension, dpi=resolution)"
   ]
  },
  {
   "cell_type": "markdown",
   "id": "1ed678ce-7d9d-400b-9c72-7e55ed08686d",
   "metadata": {},
   "source": [
    "## Loading dataset"
   ]
  },
  {
   "cell_type": "code",
   "execution_count": 2,
   "id": "00c47e62-1170-4c85-8ce9-09b5ee1d6bb0",
   "metadata": {},
   "outputs": [],
   "source": [
    "import pandas as pd\n",
    "train_df = pd.read_excel('Pearl Challenge data with dictionary.xlsx', sheet_name='TrainData')\n",
    "test_df = pd.read_excel('Pearl Challenge data with dictionary.xlsx', sheet_name='TestData')"
   ]
  },
  {
   "cell_type": "markdown",
   "id": "197d7890-7601-4132-b8c7-e3bf6cd77245",
   "metadata": {},
   "source": [
    "# Feature Engineering"
   ]
  },
  {
   "cell_type": "code",
   "execution_count": 12,
   "id": "151be9ca-8263-4841-b709-a94a002e5869",
   "metadata": {},
   "outputs": [],
   "source": [
    "drop_cols = ['FarmerID', 'Zipcode', 'CITY', 'DISTRICT', 'VILLAGE', 'Location']\n",
    "target = 'Target_Variable/Total Income'\n",
    "X = train_df.drop(columns=[target] + drop_cols)\n",
    "y = np.log1p(train_df[target])\n",
    "\n",
    "cat_cols = X.select_dtypes(include='object').columns.tolist()\n",
    "num_cols = X.select_dtypes(include=['int64', 'float64']).columns.tolist()"
   ]
  },
  {
   "cell_type": "markdown",
   "id": "8c2fea9e-2732-4484-a818-7913160a19b5",
   "metadata": {},
   "source": [
    "## Preprocessing data"
   ]
  },
  {
   "cell_type": "code",
   "execution_count": 14,
   "id": "4f33524b-f8a3-40ef-a2e1-202a308c2170",
   "metadata": {},
   "outputs": [],
   "source": [
    "from sklearn.pipeline import Pipeline\n",
    "from sklearn.compose import ColumnTransformer\n",
    "from sklearn.preprocessing import OneHotEncoder, RobustScaler\n",
    "from sklearn.impute import SimpleImputer\n",
    "from sklearn.model_selection import train_test_split\n",
    "\n",
    "numeric_transformer = Pipeline(steps=[\n",
    "    ('imputer', SimpleImputer(strategy='median')),\n",
    "    ('scaler', RobustScaler())\n",
    "])\n",
    "\n",
    "categorical_transformer = Pipeline(steps=[\n",
    "    ('imputer', SimpleImputer(strategy='most_frequent')),\n",
    "    ('onehot', OneHotEncoder(handle_unknown='ignore'))\n",
    "])\n",
    "\n",
    "preprocessor = ColumnTransformer(\n",
    "    transformers=[\n",
    "        ('num', numeric_transformer, num_cols),\n",
    "        ('cat', categorical_transformer, cat_cols)\n",
    "    ]\n",
    ")\n",
    "\n",
    "X_train, X_val, y_train, y_val = train_test_split(X, y, test_size=0.2, random_state=42)"
   ]
  },
  {
   "cell_type": "markdown",
   "id": "ff124f00-b2be-413d-8b04-aa52da954b64",
   "metadata": {},
   "source": [
    "## Baseline model"
   ]
  },
  {
   "cell_type": "code",
   "execution_count": 15,
   "id": "b50735f7-a8f5-4633-8146-6d45c8aad973",
   "metadata": {},
   "outputs": [
    {
     "data": {
      "text/html": [
       "<style>#sk-container-id-2 {\n",
       "  /* Definition of color scheme common for light and dark mode */\n",
       "  --sklearn-color-text: #000;\n",
       "  --sklearn-color-text-muted: #666;\n",
       "  --sklearn-color-line: gray;\n",
       "  /* Definition of color scheme for unfitted estimators */\n",
       "  --sklearn-color-unfitted-level-0: #fff5e6;\n",
       "  --sklearn-color-unfitted-level-1: #f6e4d2;\n",
       "  --sklearn-color-unfitted-level-2: #ffe0b3;\n",
       "  --sklearn-color-unfitted-level-3: chocolate;\n",
       "  /* Definition of color scheme for fitted estimators */\n",
       "  --sklearn-color-fitted-level-0: #f0f8ff;\n",
       "  --sklearn-color-fitted-level-1: #d4ebff;\n",
       "  --sklearn-color-fitted-level-2: #b3dbfd;\n",
       "  --sklearn-color-fitted-level-3: cornflowerblue;\n",
       "\n",
       "  /* Specific color for light theme */\n",
       "  --sklearn-color-text-on-default-background: var(--sg-text-color, var(--theme-code-foreground, var(--jp-content-font-color1, black)));\n",
       "  --sklearn-color-background: var(--sg-background-color, var(--theme-background, var(--jp-layout-color0, white)));\n",
       "  --sklearn-color-border-box: var(--sg-text-color, var(--theme-code-foreground, var(--jp-content-font-color1, black)));\n",
       "  --sklearn-color-icon: #696969;\n",
       "\n",
       "  @media (prefers-color-scheme: dark) {\n",
       "    /* Redefinition of color scheme for dark theme */\n",
       "    --sklearn-color-text-on-default-background: var(--sg-text-color, var(--theme-code-foreground, var(--jp-content-font-color1, white)));\n",
       "    --sklearn-color-background: var(--sg-background-color, var(--theme-background, var(--jp-layout-color0, #111)));\n",
       "    --sklearn-color-border-box: var(--sg-text-color, var(--theme-code-foreground, var(--jp-content-font-color1, white)));\n",
       "    --sklearn-color-icon: #878787;\n",
       "  }\n",
       "}\n",
       "\n",
       "#sk-container-id-2 {\n",
       "  color: var(--sklearn-color-text);\n",
       "}\n",
       "\n",
       "#sk-container-id-2 pre {\n",
       "  padding: 0;\n",
       "}\n",
       "\n",
       "#sk-container-id-2 input.sk-hidden--visually {\n",
       "  border: 0;\n",
       "  clip: rect(1px 1px 1px 1px);\n",
       "  clip: rect(1px, 1px, 1px, 1px);\n",
       "  height: 1px;\n",
       "  margin: -1px;\n",
       "  overflow: hidden;\n",
       "  padding: 0;\n",
       "  position: absolute;\n",
       "  width: 1px;\n",
       "}\n",
       "\n",
       "#sk-container-id-2 div.sk-dashed-wrapped {\n",
       "  border: 1px dashed var(--sklearn-color-line);\n",
       "  margin: 0 0.4em 0.5em 0.4em;\n",
       "  box-sizing: border-box;\n",
       "  padding-bottom: 0.4em;\n",
       "  background-color: var(--sklearn-color-background);\n",
       "}\n",
       "\n",
       "#sk-container-id-2 div.sk-container {\n",
       "  /* jupyter's `normalize.less` sets `[hidden] { display: none; }`\n",
       "     but bootstrap.min.css set `[hidden] { display: none !important; }`\n",
       "     so we also need the `!important` here to be able to override the\n",
       "     default hidden behavior on the sphinx rendered scikit-learn.org.\n",
       "     See: https://github.com/scikit-learn/scikit-learn/issues/21755 */\n",
       "  display: inline-block !important;\n",
       "  position: relative;\n",
       "}\n",
       "\n",
       "#sk-container-id-2 div.sk-text-repr-fallback {\n",
       "  display: none;\n",
       "}\n",
       "\n",
       "div.sk-parallel-item,\n",
       "div.sk-serial,\n",
       "div.sk-item {\n",
       "  /* draw centered vertical line to link estimators */\n",
       "  background-image: linear-gradient(var(--sklearn-color-text-on-default-background), var(--sklearn-color-text-on-default-background));\n",
       "  background-size: 2px 100%;\n",
       "  background-repeat: no-repeat;\n",
       "  background-position: center center;\n",
       "}\n",
       "\n",
       "/* Parallel-specific style estimator block */\n",
       "\n",
       "#sk-container-id-2 div.sk-parallel-item::after {\n",
       "  content: \"\";\n",
       "  width: 100%;\n",
       "  border-bottom: 2px solid var(--sklearn-color-text-on-default-background);\n",
       "  flex-grow: 1;\n",
       "}\n",
       "\n",
       "#sk-container-id-2 div.sk-parallel {\n",
       "  display: flex;\n",
       "  align-items: stretch;\n",
       "  justify-content: center;\n",
       "  background-color: var(--sklearn-color-background);\n",
       "  position: relative;\n",
       "}\n",
       "\n",
       "#sk-container-id-2 div.sk-parallel-item {\n",
       "  display: flex;\n",
       "  flex-direction: column;\n",
       "}\n",
       "\n",
       "#sk-container-id-2 div.sk-parallel-item:first-child::after {\n",
       "  align-self: flex-end;\n",
       "  width: 50%;\n",
       "}\n",
       "\n",
       "#sk-container-id-2 div.sk-parallel-item:last-child::after {\n",
       "  align-self: flex-start;\n",
       "  width: 50%;\n",
       "}\n",
       "\n",
       "#sk-container-id-2 div.sk-parallel-item:only-child::after {\n",
       "  width: 0;\n",
       "}\n",
       "\n",
       "/* Serial-specific style estimator block */\n",
       "\n",
       "#sk-container-id-2 div.sk-serial {\n",
       "  display: flex;\n",
       "  flex-direction: column;\n",
       "  align-items: center;\n",
       "  background-color: var(--sklearn-color-background);\n",
       "  padding-right: 1em;\n",
       "  padding-left: 1em;\n",
       "}\n",
       "\n",
       "\n",
       "/* Toggleable style: style used for estimator/Pipeline/ColumnTransformer box that is\n",
       "clickable and can be expanded/collapsed.\n",
       "- Pipeline and ColumnTransformer use this feature and define the default style\n",
       "- Estimators will overwrite some part of the style using the `sk-estimator` class\n",
       "*/\n",
       "\n",
       "/* Pipeline and ColumnTransformer style (default) */\n",
       "\n",
       "#sk-container-id-2 div.sk-toggleable {\n",
       "  /* Default theme specific background. It is overwritten whether we have a\n",
       "  specific estimator or a Pipeline/ColumnTransformer */\n",
       "  background-color: var(--sklearn-color-background);\n",
       "}\n",
       "\n",
       "/* Toggleable label */\n",
       "#sk-container-id-2 label.sk-toggleable__label {\n",
       "  cursor: pointer;\n",
       "  display: flex;\n",
       "  width: 100%;\n",
       "  margin-bottom: 0;\n",
       "  padding: 0.5em;\n",
       "  box-sizing: border-box;\n",
       "  text-align: center;\n",
       "  align-items: start;\n",
       "  justify-content: space-between;\n",
       "  gap: 0.5em;\n",
       "}\n",
       "\n",
       "#sk-container-id-2 label.sk-toggleable__label .caption {\n",
       "  font-size: 0.6rem;\n",
       "  font-weight: lighter;\n",
       "  color: var(--sklearn-color-text-muted);\n",
       "}\n",
       "\n",
       "#sk-container-id-2 label.sk-toggleable__label-arrow:before {\n",
       "  /* Arrow on the left of the label */\n",
       "  content: \"▸\";\n",
       "  float: left;\n",
       "  margin-right: 0.25em;\n",
       "  color: var(--sklearn-color-icon);\n",
       "}\n",
       "\n",
       "#sk-container-id-2 label.sk-toggleable__label-arrow:hover:before {\n",
       "  color: var(--sklearn-color-text);\n",
       "}\n",
       "\n",
       "/* Toggleable content - dropdown */\n",
       "\n",
       "#sk-container-id-2 div.sk-toggleable__content {\n",
       "  max-height: 0;\n",
       "  max-width: 0;\n",
       "  overflow: hidden;\n",
       "  text-align: left;\n",
       "  /* unfitted */\n",
       "  background-color: var(--sklearn-color-unfitted-level-0);\n",
       "}\n",
       "\n",
       "#sk-container-id-2 div.sk-toggleable__content.fitted {\n",
       "  /* fitted */\n",
       "  background-color: var(--sklearn-color-fitted-level-0);\n",
       "}\n",
       "\n",
       "#sk-container-id-2 div.sk-toggleable__content pre {\n",
       "  margin: 0.2em;\n",
       "  border-radius: 0.25em;\n",
       "  color: var(--sklearn-color-text);\n",
       "  /* unfitted */\n",
       "  background-color: var(--sklearn-color-unfitted-level-0);\n",
       "}\n",
       "\n",
       "#sk-container-id-2 div.sk-toggleable__content.fitted pre {\n",
       "  /* unfitted */\n",
       "  background-color: var(--sklearn-color-fitted-level-0);\n",
       "}\n",
       "\n",
       "#sk-container-id-2 input.sk-toggleable__control:checked~div.sk-toggleable__content {\n",
       "  /* Expand drop-down */\n",
       "  max-height: 200px;\n",
       "  max-width: 100%;\n",
       "  overflow: auto;\n",
       "}\n",
       "\n",
       "#sk-container-id-2 input.sk-toggleable__control:checked~label.sk-toggleable__label-arrow:before {\n",
       "  content: \"▾\";\n",
       "}\n",
       "\n",
       "/* Pipeline/ColumnTransformer-specific style */\n",
       "\n",
       "#sk-container-id-2 div.sk-label input.sk-toggleable__control:checked~label.sk-toggleable__label {\n",
       "  color: var(--sklearn-color-text);\n",
       "  background-color: var(--sklearn-color-unfitted-level-2);\n",
       "}\n",
       "\n",
       "#sk-container-id-2 div.sk-label.fitted input.sk-toggleable__control:checked~label.sk-toggleable__label {\n",
       "  background-color: var(--sklearn-color-fitted-level-2);\n",
       "}\n",
       "\n",
       "/* Estimator-specific style */\n",
       "\n",
       "/* Colorize estimator box */\n",
       "#sk-container-id-2 div.sk-estimator input.sk-toggleable__control:checked~label.sk-toggleable__label {\n",
       "  /* unfitted */\n",
       "  background-color: var(--sklearn-color-unfitted-level-2);\n",
       "}\n",
       "\n",
       "#sk-container-id-2 div.sk-estimator.fitted input.sk-toggleable__control:checked~label.sk-toggleable__label {\n",
       "  /* fitted */\n",
       "  background-color: var(--sklearn-color-fitted-level-2);\n",
       "}\n",
       "\n",
       "#sk-container-id-2 div.sk-label label.sk-toggleable__label,\n",
       "#sk-container-id-2 div.sk-label label {\n",
       "  /* The background is the default theme color */\n",
       "  color: var(--sklearn-color-text-on-default-background);\n",
       "}\n",
       "\n",
       "/* On hover, darken the color of the background */\n",
       "#sk-container-id-2 div.sk-label:hover label.sk-toggleable__label {\n",
       "  color: var(--sklearn-color-text);\n",
       "  background-color: var(--sklearn-color-unfitted-level-2);\n",
       "}\n",
       "\n",
       "/* Label box, darken color on hover, fitted */\n",
       "#sk-container-id-2 div.sk-label.fitted:hover label.sk-toggleable__label.fitted {\n",
       "  color: var(--sklearn-color-text);\n",
       "  background-color: var(--sklearn-color-fitted-level-2);\n",
       "}\n",
       "\n",
       "/* Estimator label */\n",
       "\n",
       "#sk-container-id-2 div.sk-label label {\n",
       "  font-family: monospace;\n",
       "  font-weight: bold;\n",
       "  display: inline-block;\n",
       "  line-height: 1.2em;\n",
       "}\n",
       "\n",
       "#sk-container-id-2 div.sk-label-container {\n",
       "  text-align: center;\n",
       "}\n",
       "\n",
       "/* Estimator-specific */\n",
       "#sk-container-id-2 div.sk-estimator {\n",
       "  font-family: monospace;\n",
       "  border: 1px dotted var(--sklearn-color-border-box);\n",
       "  border-radius: 0.25em;\n",
       "  box-sizing: border-box;\n",
       "  margin-bottom: 0.5em;\n",
       "  /* unfitted */\n",
       "  background-color: var(--sklearn-color-unfitted-level-0);\n",
       "}\n",
       "\n",
       "#sk-container-id-2 div.sk-estimator.fitted {\n",
       "  /* fitted */\n",
       "  background-color: var(--sklearn-color-fitted-level-0);\n",
       "}\n",
       "\n",
       "/* on hover */\n",
       "#sk-container-id-2 div.sk-estimator:hover {\n",
       "  /* unfitted */\n",
       "  background-color: var(--sklearn-color-unfitted-level-2);\n",
       "}\n",
       "\n",
       "#sk-container-id-2 div.sk-estimator.fitted:hover {\n",
       "  /* fitted */\n",
       "  background-color: var(--sklearn-color-fitted-level-2);\n",
       "}\n",
       "\n",
       "/* Specification for estimator info (e.g. \"i\" and \"?\") */\n",
       "\n",
       "/* Common style for \"i\" and \"?\" */\n",
       "\n",
       ".sk-estimator-doc-link,\n",
       "a:link.sk-estimator-doc-link,\n",
       "a:visited.sk-estimator-doc-link {\n",
       "  float: right;\n",
       "  font-size: smaller;\n",
       "  line-height: 1em;\n",
       "  font-family: monospace;\n",
       "  background-color: var(--sklearn-color-background);\n",
       "  border-radius: 1em;\n",
       "  height: 1em;\n",
       "  width: 1em;\n",
       "  text-decoration: none !important;\n",
       "  margin-left: 0.5em;\n",
       "  text-align: center;\n",
       "  /* unfitted */\n",
       "  border: var(--sklearn-color-unfitted-level-1) 1pt solid;\n",
       "  color: var(--sklearn-color-unfitted-level-1);\n",
       "}\n",
       "\n",
       ".sk-estimator-doc-link.fitted,\n",
       "a:link.sk-estimator-doc-link.fitted,\n",
       "a:visited.sk-estimator-doc-link.fitted {\n",
       "  /* fitted */\n",
       "  border: var(--sklearn-color-fitted-level-1) 1pt solid;\n",
       "  color: var(--sklearn-color-fitted-level-1);\n",
       "}\n",
       "\n",
       "/* On hover */\n",
       "div.sk-estimator:hover .sk-estimator-doc-link:hover,\n",
       ".sk-estimator-doc-link:hover,\n",
       "div.sk-label-container:hover .sk-estimator-doc-link:hover,\n",
       ".sk-estimator-doc-link:hover {\n",
       "  /* unfitted */\n",
       "  background-color: var(--sklearn-color-unfitted-level-3);\n",
       "  color: var(--sklearn-color-background);\n",
       "  text-decoration: none;\n",
       "}\n",
       "\n",
       "div.sk-estimator.fitted:hover .sk-estimator-doc-link.fitted:hover,\n",
       ".sk-estimator-doc-link.fitted:hover,\n",
       "div.sk-label-container:hover .sk-estimator-doc-link.fitted:hover,\n",
       ".sk-estimator-doc-link.fitted:hover {\n",
       "  /* fitted */\n",
       "  background-color: var(--sklearn-color-fitted-level-3);\n",
       "  color: var(--sklearn-color-background);\n",
       "  text-decoration: none;\n",
       "}\n",
       "\n",
       "/* Span, style for the box shown on hovering the info icon */\n",
       ".sk-estimator-doc-link span {\n",
       "  display: none;\n",
       "  z-index: 9999;\n",
       "  position: relative;\n",
       "  font-weight: normal;\n",
       "  right: .2ex;\n",
       "  padding: .5ex;\n",
       "  margin: .5ex;\n",
       "  width: min-content;\n",
       "  min-width: 20ex;\n",
       "  max-width: 50ex;\n",
       "  color: var(--sklearn-color-text);\n",
       "  box-shadow: 2pt 2pt 4pt #999;\n",
       "  /* unfitted */\n",
       "  background: var(--sklearn-color-unfitted-level-0);\n",
       "  border: .5pt solid var(--sklearn-color-unfitted-level-3);\n",
       "}\n",
       "\n",
       ".sk-estimator-doc-link.fitted span {\n",
       "  /* fitted */\n",
       "  background: var(--sklearn-color-fitted-level-0);\n",
       "  border: var(--sklearn-color-fitted-level-3);\n",
       "}\n",
       "\n",
       ".sk-estimator-doc-link:hover span {\n",
       "  display: block;\n",
       "}\n",
       "\n",
       "/* \"?\"-specific style due to the `<a>` HTML tag */\n",
       "\n",
       "#sk-container-id-2 a.estimator_doc_link {\n",
       "  float: right;\n",
       "  font-size: 1rem;\n",
       "  line-height: 1em;\n",
       "  font-family: monospace;\n",
       "  background-color: var(--sklearn-color-background);\n",
       "  border-radius: 1rem;\n",
       "  height: 1rem;\n",
       "  width: 1rem;\n",
       "  text-decoration: none;\n",
       "  /* unfitted */\n",
       "  color: var(--sklearn-color-unfitted-level-1);\n",
       "  border: var(--sklearn-color-unfitted-level-1) 1pt solid;\n",
       "}\n",
       "\n",
       "#sk-container-id-2 a.estimator_doc_link.fitted {\n",
       "  /* fitted */\n",
       "  border: var(--sklearn-color-fitted-level-1) 1pt solid;\n",
       "  color: var(--sklearn-color-fitted-level-1);\n",
       "}\n",
       "\n",
       "/* On hover */\n",
       "#sk-container-id-2 a.estimator_doc_link:hover {\n",
       "  /* unfitted */\n",
       "  background-color: var(--sklearn-color-unfitted-level-3);\n",
       "  color: var(--sklearn-color-background);\n",
       "  text-decoration: none;\n",
       "}\n",
       "\n",
       "#sk-container-id-2 a.estimator_doc_link.fitted:hover {\n",
       "  /* fitted */\n",
       "  background-color: var(--sklearn-color-fitted-level-3);\n",
       "}\n",
       "</style><div id=\"sk-container-id-2\" class=\"sk-top-container\"><div class=\"sk-text-repr-fallback\"><pre>LGBMRegressor(n_estimators=200, random_state=42)</pre><b>In a Jupyter environment, please rerun this cell to show the HTML representation or trust the notebook. <br />On GitHub, the HTML representation is unable to render, please try loading this page with nbviewer.org.</b></div><div class=\"sk-container\" hidden><div class=\"sk-item\"><div class=\"sk-estimator fitted sk-toggleable\"><input class=\"sk-toggleable__control sk-hidden--visually\" id=\"sk-estimator-id-2\" type=\"checkbox\" checked><label for=\"sk-estimator-id-2\" class=\"sk-toggleable__label fitted sk-toggleable__label-arrow\"><div><div>LGBMRegressor</div></div><div><span class=\"sk-estimator-doc-link fitted\">i<span>Fitted</span></span></div></label><div class=\"sk-toggleable__content fitted\"><pre>LGBMRegressor(n_estimators=200, random_state=42)</pre></div> </div></div></div></div>"
      ],
      "text/plain": [
       "LGBMRegressor(n_estimators=200, random_state=42)"
      ]
     },
     "execution_count": 15,
     "metadata": {},
     "output_type": "execute_result"
    }
   ],
   "source": [
    "import lightgbm as lgb\n",
    "\n",
    "X_all_processed = preprocessor.fit_transform(X, y)\n",
    "baseline_model = lgb.LGBMRegressor(n_estimators=200, random_state=42)\n",
    "baseline_model.fit(X_all_processed, y)"
   ]
  },
  {
   "cell_type": "code",
   "execution_count": 16,
   "id": "6fa2ba6e-f53f-46d3-8750-6dddcff78249",
   "metadata": {},
   "outputs": [],
   "source": [
    "ohe_features = preprocessor.named_transformers_['cat']['onehot'].get_feature_names_out(cat_cols)\n",
    "feature_names = num_cols + list(ohe_features)\n",
    "\n",
    "importances = pd.DataFrame({\n",
    "    'feature': feature_names,\n",
    "    'importance': baseline_model.feature_importances_\n",
    "}).sort_values(by='importance', ascending=False)"
   ]
  },
  {
   "cell_type": "code",
   "execution_count": 17,
   "id": "c1e319c5-0e27-4af7-919c-4dad3b7d41be",
   "metadata": {},
   "outputs": [],
   "source": [
    "from sklearn.feature_selection import SelectFromModel\n",
    "\n",
    "# Add feature selector after preprocessing\n",
    "feature_selector = SelectFromModel(\n",
    "    estimator=lgb.LGBMRegressor(n_estimators=200, random_state=42),\n",
    "    max_features=30,\n",
    "    threshold=-np.inf,  # force top-N\n",
    "    prefit=False\n",
    ")\n"
   ]
  },
  {
   "cell_type": "markdown",
   "id": "b783693e-5c2d-453f-9d95-d24ce4db71b8",
   "metadata": {},
   "source": [
    "# Bayesian Hyperparametric Optimization function"
   ]
  },
  {
   "cell_type": "code",
   "execution_count": 20,
   "id": "e8e49865-b1db-4859-8681-96abae3ed99d",
   "metadata": {
    "scrolled": true
   },
   "outputs": [
    {
     "name": "stderr",
     "output_type": "stream",
     "text": [
      "[I 2025-08-17 15:05:04,724] A new study created in memory with name: no-name-1a50d13b-1fc9-485b-aa0f-ac569c85e610\n",
      "C:\\Users\\Shyam Banerjee\\AppData\\Local\\Programs\\Python\\Python312\\Lib\\site-packages\\lightgbm\\callback.py:333: UserWarning: Early stopping is not available in dart mode\n",
      "  _log_warning(\"Early stopping is not available in dart mode\")\n",
      "C:\\Users\\Shyam Banerjee\\AppData\\Local\\Programs\\Python\\Python312\\Lib\\site-packages\\sklearn\\utils\\validation.py:2739: UserWarning: X does not have valid feature names, but LGBMRegressor was fitted with feature names\n",
      "  warnings.warn(\n",
      "[I 2025-08-17 15:05:09,202] Trial 0 finished with value: 0.9999761827305216 and parameters: {'boosting_type': 'dart', 'learning_rate': 0.03998716535230667, 'num_leaves': 93, 'max_depth': 18, 'min_child_samples': 77, 'colsample_bytree': 0.786398247840588, 'reg_alpha': 9.80763557432425, 'reg_lambda': 5.1462649092856125}. Best is trial 0 with value: 0.9999761827305216.\n",
      "C:\\Users\\Shyam Banerjee\\AppData\\Local\\Programs\\Python\\Python312\\Lib\\site-packages\\lightgbm\\callback.py:333: UserWarning: Early stopping is not available in dart mode\n",
      "  _log_warning(\"Early stopping is not available in dart mode\")\n",
      "C:\\Users\\Shyam Banerjee\\AppData\\Local\\Programs\\Python\\Python312\\Lib\\site-packages\\sklearn\\utils\\validation.py:2739: UserWarning: X does not have valid feature names, but LGBMRegressor was fitted with feature names\n",
      "  warnings.warn(\n",
      "[I 2025-08-17 15:05:12,346] Trial 1 finished with value: 1.0000010031931788 and parameters: {'boosting_type': 'dart', 'learning_rate': 0.15008485670680358, 'num_leaves': 71, 'max_depth': 5, 'min_child_samples': 39, 'colsample_bytree': 0.8951214749980836, 'reg_alpha': 5.940098435241391, 'reg_lambda': 2.79461892686524}. Best is trial 0 with value: 0.9999761827305216.\n"
     ]
    },
    {
     "name": "stdout",
     "output_type": "stream",
     "text": [
      "Training until validation scores don't improve for 50 rounds\n"
     ]
    },
    {
     "name": "stderr",
     "output_type": "stream",
     "text": [
      "C:\\Users\\Shyam Banerjee\\AppData\\Local\\Programs\\Python\\Python312\\Lib\\site-packages\\sklearn\\utils\\validation.py:2739: UserWarning: X does not have valid feature names, but LGBMRegressor was fitted with feature names\n",
      "  warnings.warn(\n",
      "[I 2025-08-17 15:05:16,032] Trial 2 finished with value: 0.20969703150181443 and parameters: {'boosting_type': 'gbdt', 'learning_rate': 0.05048519482510429, 'num_leaves': 31, 'max_depth': 10, 'min_child_samples': 48, 'colsample_bytree': 0.5825253715349007, 'reg_alpha': 1.454422076220241, 'reg_lambda': 0.6948329075634452}. Best is trial 2 with value: 0.20969703150181443.\n"
     ]
    },
    {
     "name": "stdout",
     "output_type": "stream",
     "text": [
      "Did not meet early stopping. Best iteration is:\n",
      "[1000]\tvalid_0's mape: 0.0147287\n",
      "Training until validation scores don't improve for 50 rounds\n"
     ]
    },
    {
     "name": "stderr",
     "output_type": "stream",
     "text": [
      "C:\\Users\\Shyam Banerjee\\AppData\\Local\\Programs\\Python\\Python312\\Lib\\site-packages\\sklearn\\utils\\validation.py:2739: UserWarning: X does not have valid feature names, but LGBMRegressor was fitted with feature names\n",
      "  warnings.warn(\n",
      "[I 2025-08-17 15:05:19,494] Trial 3 finished with value: 0.2110678100932442 and parameters: {'boosting_type': 'gbdt', 'learning_rate': 0.06115208711382097, 'num_leaves': 47, 'max_depth': 7, 'min_child_samples': 14, 'colsample_bytree': 0.41284870797547657, 'reg_alpha': 8.947563710001512, 'reg_lambda': 0.055226737174763896}. Best is trial 2 with value: 0.20969703150181443.\n"
     ]
    },
    {
     "name": "stdout",
     "output_type": "stream",
     "text": [
      "Early stopping, best iteration is:\n",
      "[836]\tvalid_0's mape: 0.0148643\n"
     ]
    },
    {
     "name": "stderr",
     "output_type": "stream",
     "text": [
      "C:\\Users\\Shyam Banerjee\\AppData\\Local\\Programs\\Python\\Python312\\Lib\\site-packages\\lightgbm\\callback.py:333: UserWarning: Early stopping is not available in dart mode\n",
      "  _log_warning(\"Early stopping is not available in dart mode\")\n",
      "C:\\Users\\Shyam Banerjee\\AppData\\Local\\Programs\\Python\\Python312\\Lib\\site-packages\\sklearn\\utils\\validation.py:2739: UserWarning: X does not have valid feature names, but LGBMRegressor was fitted with feature names\n",
      "  warnings.warn(\n",
      "[I 2025-08-17 15:05:23,679] Trial 4 finished with value: 0.9999997462663847 and parameters: {'boosting_type': 'dart', 'learning_rate': 0.2580608704798489, 'num_leaves': 71, 'max_depth': 18, 'min_child_samples': 78, 'colsample_bytree': 0.846554020526247, 'reg_alpha': 0.7800730827310676, 'reg_lambda': 5.434725040107415}. Best is trial 2 with value: 0.20969703150181443.\n"
     ]
    },
    {
     "name": "stdout",
     "output_type": "stream",
     "text": [
      "Training until validation scores don't improve for 50 rounds\n"
     ]
    },
    {
     "name": "stderr",
     "output_type": "stream",
     "text": [
      "C:\\Users\\Shyam Banerjee\\AppData\\Local\\Programs\\Python\\Python312\\Lib\\site-packages\\sklearn\\utils\\validation.py:2739: UserWarning: X does not have valid feature names, but LGBMRegressor was fitted with feature names\n",
      "  warnings.warn(\n",
      "[I 2025-08-17 15:05:28,080] Trial 5 finished with value: 0.27887974645153907 and parameters: {'boosting_type': 'gbdt', 'learning_rate': 0.0013445391647192828, 'num_leaves': 62, 'max_depth': 7, 'min_child_samples': 20, 'colsample_bytree': 0.4925714396529452, 'reg_alpha': 7.740224657002593, 'reg_lambda': 0.2826250349892345}. Best is trial 2 with value: 0.20969703150181443.\n"
     ]
    },
    {
     "name": "stdout",
     "output_type": "stream",
     "text": [
      "Did not meet early stopping. Best iteration is:\n",
      "[1000]\tvalid_0's mape: 0.0199213\n",
      "Training until validation scores don't improve for 50 rounds\n"
     ]
    },
    {
     "name": "stderr",
     "output_type": "stream",
     "text": [
      "C:\\Users\\Shyam Banerjee\\AppData\\Local\\Programs\\Python\\Python312\\Lib\\site-packages\\sklearn\\utils\\validation.py:2739: UserWarning: X does not have valid feature names, but LGBMRegressor was fitted with feature names\n",
      "  warnings.warn(\n",
      "[I 2025-08-17 15:05:31,029] Trial 6 finished with value: 0.2180144248149152 and parameters: {'boosting_type': 'gbdt', 'learning_rate': 0.048226049639292924, 'num_leaves': 18, 'max_depth': 10, 'min_child_samples': 81, 'colsample_bytree': 0.5980239390009227, 'reg_alpha': 7.794106579638691, 'reg_lambda': 6.057573046186366}. Best is trial 2 with value: 0.20969703150181443.\n"
     ]
    },
    {
     "name": "stdout",
     "output_type": "stream",
     "text": [
      "Did not meet early stopping. Best iteration is:\n",
      "[998]\tvalid_0's mape: 0.0154063\n"
     ]
    },
    {
     "name": "stderr",
     "output_type": "stream",
     "text": [
      "C:\\Users\\Shyam Banerjee\\AppData\\Local\\Programs\\Python\\Python312\\Lib\\site-packages\\lightgbm\\callback.py:333: UserWarning: Early stopping is not available in dart mode\n",
      "  _log_warning(\"Early stopping is not available in dart mode\")\n",
      "C:\\Users\\Shyam Banerjee\\AppData\\Local\\Programs\\Python\\Python312\\Lib\\site-packages\\sklearn\\utils\\validation.py:2739: UserWarning: X does not have valid feature names, but LGBMRegressor was fitted with feature names\n",
      "  warnings.warn(\n",
      "[I 2025-08-17 15:05:39,491] Trial 7 finished with value: 1.0000009961744467 and parameters: {'boosting_type': 'dart', 'learning_rate': 0.02814599327967853, 'num_leaves': 29, 'max_depth': 6, 'min_child_samples': 81, 'colsample_bytree': 0.9670556795848592, 'reg_alpha': 6.946997839011399, 'reg_lambda': 4.429705425564988}. Best is trial 2 with value: 0.20969703150181443.\n",
      "C:\\Users\\Shyam Banerjee\\AppData\\Local\\Programs\\Python\\Python312\\Lib\\site-packages\\lightgbm\\callback.py:333: UserWarning: Early stopping is not available in dart mode\n",
      "  _log_warning(\"Early stopping is not available in dart mode\")\n",
      "C:\\Users\\Shyam Banerjee\\AppData\\Local\\Programs\\Python\\Python312\\Lib\\site-packages\\sklearn\\utils\\validation.py:2739: UserWarning: X does not have valid feature names, but LGBMRegressor was fitted with feature names\n",
      "  warnings.warn(\n",
      "[I 2025-08-17 15:05:43,398] Trial 8 finished with value: 0.999988687258031 and parameters: {'boosting_type': 'dart', 'learning_rate': 0.14087331692307267, 'num_leaves': 27, 'max_depth': 6, 'min_child_samples': 62, 'colsample_bytree': 0.8811835295015213, 'reg_alpha': 3.2600686773353127, 'reg_lambda': 1.3305735185833856}. Best is trial 2 with value: 0.20969703150181443.\n",
      "C:\\Users\\Shyam Banerjee\\AppData\\Local\\Programs\\Python\\Python312\\Lib\\site-packages\\lightgbm\\callback.py:333: UserWarning: Early stopping is not available in dart mode\n",
      "  _log_warning(\"Early stopping is not available in dart mode\")\n",
      "C:\\Users\\Shyam Banerjee\\AppData\\Local\\Programs\\Python\\Python312\\Lib\\site-packages\\sklearn\\utils\\validation.py:2739: UserWarning: X does not have valid feature names, but LGBMRegressor was fitted with feature names\n",
      "  warnings.warn(\n",
      "[I 2025-08-17 15:05:48,789] Trial 9 finished with value: 1.0000010678935842 and parameters: {'boosting_type': 'dart', 'learning_rate': 0.048145266427261635, 'num_leaves': 61, 'max_depth': 7, 'min_child_samples': 82, 'colsample_bytree': 0.8379571940947352, 'reg_alpha': 2.615809335502316, 'reg_lambda': 4.12533148777565}. Best is trial 2 with value: 0.20969703150181443.\n"
     ]
    },
    {
     "name": "stdout",
     "output_type": "stream",
     "text": [
      "Training until validation scores don't improve for 50 rounds\n"
     ]
    },
    {
     "name": "stderr",
     "output_type": "stream",
     "text": [
      "C:\\Users\\Shyam Banerjee\\AppData\\Local\\Programs\\Python\\Python312\\Lib\\site-packages\\sklearn\\utils\\validation.py:2739: UserWarning: X does not have valid feature names, but LGBMRegressor was fitted with feature names\n",
      "  warnings.warn(\n",
      "[I 2025-08-17 15:05:54,392] Trial 10 finished with value: 0.22120470254554356 and parameters: {'boosting_type': 'gbdt', 'learning_rate': 0.006585174830864521, 'num_leaves': 42, 'max_depth': 14, 'min_child_samples': 45, 'colsample_bytree': 0.6663698312183073, 'reg_alpha': 0.14374699812136882, 'reg_lambda': 9.331875819414112}. Best is trial 2 with value: 0.20969703150181443.\n"
     ]
    },
    {
     "name": "stdout",
     "output_type": "stream",
     "text": [
      "Did not meet early stopping. Best iteration is:\n",
      "[1000]\tvalid_0's mape: 0.0156785\n",
      "Training until validation scores don't improve for 50 rounds\n"
     ]
    },
    {
     "name": "stderr",
     "output_type": "stream",
     "text": [
      "C:\\Users\\Shyam Banerjee\\AppData\\Local\\Programs\\Python\\Python312\\Lib\\site-packages\\sklearn\\utils\\validation.py:2739: UserWarning: X does not have valid feature names, but LGBMRegressor was fitted with feature names\n",
      "  warnings.warn(\n",
      "[I 2025-08-17 15:05:58,992] Trial 11 finished with value: 0.2183377687360723 and parameters: {'boosting_type': 'gbdt', 'learning_rate': 0.010295670164988177, 'num_leaves': 43, 'max_depth': 11, 'min_child_samples': 13, 'colsample_bytree': 0.4435487225172514, 'reg_alpha': 4.149646818622177, 'reg_lambda': 0.1343151284305839}. Best is trial 2 with value: 0.20969703150181443.\n"
     ]
    },
    {
     "name": "stdout",
     "output_type": "stream",
     "text": [
      "Did not meet early stopping. Best iteration is:\n",
      "[1000]\tvalid_0's mape: 0.0154739\n",
      "Training until validation scores don't improve for 50 rounds\n"
     ]
    },
    {
     "name": "stderr",
     "output_type": "stream",
     "text": [
      "C:\\Users\\Shyam Banerjee\\AppData\\Local\\Programs\\Python\\Python312\\Lib\\site-packages\\sklearn\\utils\\validation.py:2739: UserWarning: X does not have valid feature names, but LGBMRegressor was fitted with feature names\n",
      "  warnings.warn(\n",
      "[I 2025-08-17 15:06:01,529] Trial 12 finished with value: 0.21963886721580966 and parameters: {'boosting_type': 'gbdt', 'learning_rate': 0.09181761989483914, 'num_leaves': 10, 'max_depth': 14, 'min_child_samples': 28, 'colsample_bytree': 0.54507097985035, 'reg_alpha': 9.718573549288523, 'reg_lambda': 2.2013732665878294}. Best is trial 2 with value: 0.20969703150181443.\n"
     ]
    },
    {
     "name": "stdout",
     "output_type": "stream",
     "text": [
      "Did not meet early stopping. Best iteration is:\n",
      "[1000]\tvalid_0's mape: 0.0155018\n",
      "Training until validation scores don't improve for 50 rounds\n"
     ]
    },
    {
     "name": "stderr",
     "output_type": "stream",
     "text": [
      "C:\\Users\\Shyam Banerjee\\AppData\\Local\\Programs\\Python\\Python312\\Lib\\site-packages\\sklearn\\utils\\validation.py:2739: UserWarning: X does not have valid feature names, but LGBMRegressor was fitted with feature names\n",
      "  warnings.warn(\n",
      "[I 2025-08-17 15:06:05,944] Trial 13 finished with value: 0.2165189189630395 and parameters: {'boosting_type': 'gbdt', 'learning_rate': 0.013621127737618284, 'num_leaves': 42, 'max_depth': 9, 'min_child_samples': 59, 'colsample_bytree': 0.4023421987706632, 'reg_alpha': 1.885832927117171, 'reg_lambda': 8.07506772301306}. Best is trial 2 with value: 0.20969703150181443.\n"
     ]
    },
    {
     "name": "stdout",
     "output_type": "stream",
     "text": [
      "Did not meet early stopping. Best iteration is:\n",
      "[1000]\tvalid_0's mape: 0.015328\n",
      "Training until validation scores don't improve for 50 rounds\n"
     ]
    },
    {
     "name": "stderr",
     "output_type": "stream",
     "text": [
      "C:\\Users\\Shyam Banerjee\\AppData\\Local\\Programs\\Python\\Python312\\Lib\\site-packages\\sklearn\\utils\\validation.py:2739: UserWarning: X does not have valid feature names, but LGBMRegressor was fitted with feature names\n",
      "  warnings.warn(\n",
      "[I 2025-08-17 15:06:08,329] Trial 14 finished with value: 0.2687875133122952 and parameters: {'boosting_type': 'gbdt', 'learning_rate': 0.0034747572887057045, 'num_leaves': 32, 'max_depth': 3, 'min_child_samples': 5, 'colsample_bytree': 0.663693312237672, 'reg_alpha': 5.71765664979252, 'reg_lambda': 1.7508648247588348}. Best is trial 2 with value: 0.20969703150181443.\n"
     ]
    },
    {
     "name": "stdout",
     "output_type": "stream",
     "text": [
      "Did not meet early stopping. Best iteration is:\n",
      "[1000]\tvalid_0's mape: 0.0191338\n",
      "Training until validation scores don't improve for 50 rounds\n"
     ]
    },
    {
     "name": "stderr",
     "output_type": "stream",
     "text": [
      "C:\\Users\\Shyam Banerjee\\AppData\\Local\\Programs\\Python\\Python312\\Lib\\site-packages\\sklearn\\utils\\validation.py:2739: UserWarning: X does not have valid feature names, but LGBMRegressor was fitted with feature names\n",
      "  warnings.warn(\n",
      "[I 2025-08-17 15:06:12,075] Trial 15 finished with value: 0.20938990659588755 and parameters: {'boosting_type': 'gbdt', 'learning_rate': 0.08241219219963317, 'num_leaves': 99, 'max_depth': 14, 'min_child_samples': 97, 'colsample_bytree': 0.5772691805472999, 'reg_alpha': 4.427257987838814, 'reg_lambda': 3.2837697994241566}. Best is trial 15 with value: 0.20938990659588755.\n"
     ]
    },
    {
     "name": "stdout",
     "output_type": "stream",
     "text": [
      "Early stopping, best iteration is:\n",
      "[471]\tvalid_0's mape: 0.0146654\n",
      "Training until validation scores don't improve for 50 rounds\n",
      "Early stopping, best iteration is:\n",
      "[827]\tvalid_0's mape: 0.0146323\n"
     ]
    },
    {
     "name": "stderr",
     "output_type": "stream",
     "text": [
      "C:\\Users\\Shyam Banerjee\\AppData\\Local\\Programs\\Python\\Python312\\Lib\\site-packages\\sklearn\\utils\\validation.py:2739: UserWarning: X does not have valid feature names, but LGBMRegressor was fitted with feature names\n",
      "  warnings.warn(\n",
      "[I 2025-08-17 15:06:18,172] Trial 16 finished with value: 0.20818912479022988 and parameters: {'boosting_type': 'gbdt', 'learning_rate': 0.030142758129888658, 'num_leaves': 98, 'max_depth': 14, 'min_child_samples': 100, 'colsample_bytree': 0.5851900652023333, 'reg_alpha': 4.3797005541244225, 'reg_lambda': 3.122990713155004}. Best is trial 16 with value: 0.20818912479022988.\n"
     ]
    },
    {
     "name": "stdout",
     "output_type": "stream",
     "text": [
      "Training until validation scores don't improve for 50 rounds\n",
      "Did not meet early stopping. Best iteration is:\n",
      "[998]\tvalid_0's mape: 0.0146093\n"
     ]
    },
    {
     "name": "stderr",
     "output_type": "stream",
     "text": [
      "C:\\Users\\Shyam Banerjee\\AppData\\Local\\Programs\\Python\\Python312\\Lib\\site-packages\\sklearn\\utils\\validation.py:2739: UserWarning: X does not have valid feature names, but LGBMRegressor was fitted with feature names\n",
      "  warnings.warn(\n",
      "[I 2025-08-17 15:06:25,365] Trial 17 finished with value: 0.20783413721840632 and parameters: {'boosting_type': 'gbdt', 'learning_rate': 0.02089004161680419, 'num_leaves': 99, 'max_depth': 15, 'min_child_samples': 100, 'colsample_bytree': 0.7444506911284533, 'reg_alpha': 4.41031538827445, 'reg_lambda': 3.2353358483919177}. Best is trial 17 with value: 0.20783413721840632.\n"
     ]
    },
    {
     "name": "stdout",
     "output_type": "stream",
     "text": [
      "Training until validation scores don't improve for 50 rounds\n"
     ]
    },
    {
     "name": "stderr",
     "output_type": "stream",
     "text": [
      "C:\\Users\\Shyam Banerjee\\AppData\\Local\\Programs\\Python\\Python312\\Lib\\site-packages\\sklearn\\utils\\validation.py:2739: UserWarning: X does not have valid feature names, but LGBMRegressor was fitted with feature names\n",
      "  warnings.warn(\n",
      "[I 2025-08-17 15:06:32,127] Trial 18 finished with value: 0.20786874702041946 and parameters: {'boosting_type': 'gbdt', 'learning_rate': 0.01990686139911026, 'num_leaves': 85, 'max_depth': 16, 'min_child_samples': 99, 'colsample_bytree': 0.7451585459951388, 'reg_alpha': 3.425462972546443, 'reg_lambda': 6.775072289393824}. Best is trial 17 with value: 0.20783413721840632.\n"
     ]
    },
    {
     "name": "stdout",
     "output_type": "stream",
     "text": [
      "Did not meet early stopping. Best iteration is:\n",
      "[1000]\tvalid_0's mape: 0.0146129\n",
      "Training until validation scores don't improve for 50 rounds\n"
     ]
    },
    {
     "name": "stderr",
     "output_type": "stream",
     "text": [
      "C:\\Users\\Shyam Banerjee\\AppData\\Local\\Programs\\Python\\Python312\\Lib\\site-packages\\sklearn\\utils\\validation.py:2739: UserWarning: X does not have valid feature names, but LGBMRegressor was fitted with feature names\n",
      "  warnings.warn(\n",
      "[I 2025-08-17 15:06:40,174] Trial 19 finished with value: 0.21709808973902991 and parameters: {'boosting_type': 'gbdt', 'learning_rate': 0.0049301748928738875, 'num_leaves': 85, 'max_depth': 20, 'min_child_samples': 91, 'colsample_bytree': 0.7412592228986772, 'reg_alpha': 3.356731832570864, 'reg_lambda': 6.851426036911839}. Best is trial 17 with value: 0.20783413721840632.\n"
     ]
    },
    {
     "name": "stdout",
     "output_type": "stream",
     "text": [
      "Did not meet early stopping. Best iteration is:\n",
      "[1000]\tvalid_0's mape: 0.0153927\n",
      "Training until validation scores don't improve for 50 rounds\n"
     ]
    },
    {
     "name": "stderr",
     "output_type": "stream",
     "text": [
      "C:\\Users\\Shyam Banerjee\\AppData\\Local\\Programs\\Python\\Python312\\Lib\\site-packages\\sklearn\\utils\\validation.py:2739: UserWarning: X does not have valid feature names, but LGBMRegressor was fitted with feature names\n",
      "  warnings.warn(\n",
      "[I 2025-08-17 15:06:46,869] Trial 20 finished with value: 0.2090178383899781 and parameters: {'boosting_type': 'gbdt', 'learning_rate': 0.020284786866620084, 'num_leaves': 83, 'max_depth': 16, 'min_child_samples': 69, 'colsample_bytree': 0.7324943188074371, 'reg_alpha': 5.4640206577845145, 'reg_lambda': 7.116658136411758}. Best is trial 17 with value: 0.20783413721840632.\n"
     ]
    },
    {
     "name": "stdout",
     "output_type": "stream",
     "text": [
      "Did not meet early stopping. Best iteration is:\n",
      "[999]\tvalid_0's mape: 0.0147068\n",
      "Training until validation scores don't improve for 50 rounds\n"
     ]
    },
    {
     "name": "stderr",
     "output_type": "stream",
     "text": [
      "C:\\Users\\Shyam Banerjee\\AppData\\Local\\Programs\\Python\\Python312\\Lib\\site-packages\\sklearn\\utils\\validation.py:2739: UserWarning: X does not have valid feature names, but LGBMRegressor was fitted with feature names\n",
      "  warnings.warn(\n",
      "[I 2025-08-17 15:06:53,188] Trial 21 finished with value: 0.2078800026730446 and parameters: {'boosting_type': 'gbdt', 'learning_rate': 0.022980646262673085, 'num_leaves': 89, 'max_depth': 16, 'min_child_samples': 99, 'colsample_bytree': 0.6463814716427371, 'reg_alpha': 4.395772130222176, 'reg_lambda': 3.484500588485109}. Best is trial 17 with value: 0.20783413721840632.\n"
     ]
    },
    {
     "name": "stdout",
     "output_type": "stream",
     "text": [
      "Did not meet early stopping. Best iteration is:\n",
      "[999]\tvalid_0's mape: 0.0146171\n",
      "Training until validation scores don't improve for 50 rounds\n"
     ]
    },
    {
     "name": "stderr",
     "output_type": "stream",
     "text": [
      "C:\\Users\\Shyam Banerjee\\AppData\\Local\\Programs\\Python\\Python312\\Lib\\site-packages\\sklearn\\utils\\validation.py:2739: UserWarning: X does not have valid feature names, but LGBMRegressor was fitted with feature names\n",
      "  warnings.warn(\n",
      "[I 2025-08-17 15:07:00,940] Trial 22 finished with value: 0.20824308518216722 and parameters: {'boosting_type': 'gbdt', 'learning_rate': 0.015844776395651614, 'num_leaves': 86, 'max_depth': 16, 'min_child_samples': 90, 'colsample_bytree': 0.6756569565938668, 'reg_alpha': 3.093299394959273, 'reg_lambda': 3.9841525185334623}. Best is trial 17 with value: 0.20783413721840632.\n"
     ]
    },
    {
     "name": "stdout",
     "output_type": "stream",
     "text": [
      "Did not meet early stopping. Best iteration is:\n",
      "[1000]\tvalid_0's mape: 0.0146604\n",
      "Training until validation scores don't improve for 50 rounds\n"
     ]
    },
    {
     "name": "stderr",
     "output_type": "stream",
     "text": [
      "C:\\Users\\Shyam Banerjee\\AppData\\Local\\Programs\\Python\\Python312\\Lib\\site-packages\\sklearn\\utils\\validation.py:2739: UserWarning: X does not have valid feature names, but LGBMRegressor was fitted with feature names\n",
      "  warnings.warn(\n",
      "[I 2025-08-17 15:07:08,512] Trial 23 finished with value: 0.21363488540367528 and parameters: {'boosting_type': 'gbdt', 'learning_rate': 0.00775875248000944, 'num_leaves': 78, 'max_depth': 16, 'min_child_samples': 91, 'colsample_bytree': 0.7835449514672154, 'reg_alpha': 4.806752194113131, 'reg_lambda': 6.112912359666768}. Best is trial 17 with value: 0.20783413721840632.\n"
     ]
    },
    {
     "name": "stdout",
     "output_type": "stream",
     "text": [
      "Did not meet early stopping. Best iteration is:\n",
      "[1000]\tvalid_0's mape: 0.0151023\n",
      "Training until validation scores don't improve for 50 rounds\n"
     ]
    },
    {
     "name": "stderr",
     "output_type": "stream",
     "text": [
      "C:\\Users\\Shyam Banerjee\\AppData\\Local\\Programs\\Python\\Python312\\Lib\\site-packages\\sklearn\\utils\\validation.py:2739: UserWarning: X does not have valid feature names, but LGBMRegressor was fitted with feature names\n",
      "  warnings.warn(\n",
      "[I 2025-08-17 15:07:15,283] Trial 24 finished with value: 0.20885872263667213 and parameters: {'boosting_type': 'gbdt', 'learning_rate': 0.02240732573897892, 'num_leaves': 92, 'max_depth': 19, 'min_child_samples': 97, 'colsample_bytree': 0.7158380638589152, 'reg_alpha': 6.511286702776976, 'reg_lambda': 8.457029781738125}. Best is trial 17 with value: 0.20783413721840632.\n"
     ]
    },
    {
     "name": "stdout",
     "output_type": "stream",
     "text": [
      "Did not meet early stopping. Best iteration is:\n",
      "[1000]\tvalid_0's mape: 0.0146987\n",
      "Training until validation scores don't improve for 50 rounds\n"
     ]
    },
    {
     "name": "stderr",
     "output_type": "stream",
     "text": [
      "C:\\Users\\Shyam Banerjee\\AppData\\Local\\Programs\\Python\\Python312\\Lib\\site-packages\\sklearn\\utils\\validation.py:2739: UserWarning: X does not have valid feature names, but LGBMRegressor was fitted with feature names\n",
      "  warnings.warn(\n",
      "[I 2025-08-17 15:07:22,842] Trial 25 finished with value: 0.23251908321570125 and parameters: {'boosting_type': 'gbdt', 'learning_rate': 0.002502902302913009, 'num_leaves': 74, 'max_depth': 12, 'min_child_samples': 71, 'colsample_bytree': 0.7835189666374743, 'reg_alpha': 2.4401910383777023, 'reg_lambda': 4.625473033301028}. Best is trial 17 with value: 0.20783413721840632.\n"
     ]
    },
    {
     "name": "stdout",
     "output_type": "stream",
     "text": [
      "Did not meet early stopping. Best iteration is:\n",
      "[1000]\tvalid_0's mape: 0.016539\n",
      "Training until validation scores don't improve for 50 rounds\n"
     ]
    },
    {
     "name": "stderr",
     "output_type": "stream",
     "text": [
      "C:\\Users\\Shyam Banerjee\\AppData\\Local\\Programs\\Python\\Python312\\Lib\\site-packages\\sklearn\\utils\\validation.py:2739: UserWarning: X does not have valid feature names, but LGBMRegressor was fitted with feature names\n",
      "  warnings.warn(\n",
      "[I 2025-08-17 15:07:31,276] Trial 26 finished with value: 0.21007475317261534 and parameters: {'boosting_type': 'gbdt', 'learning_rate': 0.010549552970762422, 'num_leaves': 90, 'max_depth': 17, 'min_child_samples': 89, 'colsample_bytree': 0.6312561093210652, 'reg_alpha': 3.8514769894229417, 'reg_lambda': 3.542209423861717}. Best is trial 17 with value: 0.20783413721840632.\n"
     ]
    },
    {
     "name": "stdout",
     "output_type": "stream",
     "text": [
      "Did not meet early stopping. Best iteration is:\n",
      "[1000]\tvalid_0's mape: 0.0148256\n",
      "Training until validation scores don't improve for 50 rounds\n",
      "Did not meet early stopping. Best iteration is:\n",
      "[999]\tvalid_0's mape: 0.0146914\n"
     ]
    },
    {
     "name": "stderr",
     "output_type": "stream",
     "text": [
      "C:\\Users\\Shyam Banerjee\\AppData\\Local\\Programs\\Python\\Python312\\Lib\\site-packages\\sklearn\\utils\\validation.py:2739: UserWarning: X does not have valid feature names, but LGBMRegressor was fitted with feature names\n",
      "  warnings.warn(\n",
      "[I 2025-08-17 15:07:39,178] Trial 27 finished with value: 0.20877955072324314 and parameters: {'boosting_type': 'gbdt', 'learning_rate': 0.016500403623687206, 'num_leaves': 100, 'max_depth': 13, 'min_child_samples': 98, 'colsample_bytree': 0.7539278979121181, 'reg_alpha': 5.103583939472597, 'reg_lambda': 2.1623752077237035}. Best is trial 17 with value: 0.20783413721840632.\n"
     ]
    },
    {
     "name": "stdout",
     "output_type": "stream",
     "text": [
      "Training until validation scores don't improve for 50 rounds\n"
     ]
    },
    {
     "name": "stderr",
     "output_type": "stream",
     "text": [
      "C:\\Users\\Shyam Banerjee\\AppData\\Local\\Programs\\Python\\Python312\\Lib\\site-packages\\sklearn\\utils\\validation.py:2739: UserWarning: X does not have valid feature names, but LGBMRegressor was fitted with feature names\n",
      "  warnings.warn(\n",
      "[I 2025-08-17 15:07:49,192] Trial 28 finished with value: 0.2128857847901769 and parameters: {'boosting_type': 'gbdt', 'learning_rate': 0.010180331769653711, 'num_leaves': 79, 'max_depth': 15, 'min_child_samples': 87, 'colsample_bytree': 0.9999101403352816, 'reg_alpha': 3.548403661087362, 'reg_lambda': 7.351957990234578}. Best is trial 17 with value: 0.20783413721840632.\n"
     ]
    },
    {
     "name": "stdout",
     "output_type": "stream",
     "text": [
      "Did not meet early stopping. Best iteration is:\n",
      "[1000]\tvalid_0's mape: 0.0149995\n"
     ]
    },
    {
     "name": "stderr",
     "output_type": "stream",
     "text": [
      "C:\\Users\\Shyam Banerjee\\AppData\\Local\\Programs\\Python\\Python312\\Lib\\site-packages\\lightgbm\\callback.py:333: UserWarning: Early stopping is not available in dart mode\n",
      "  _log_warning(\"Early stopping is not available in dart mode\")\n",
      "C:\\Users\\Shyam Banerjee\\AppData\\Local\\Programs\\Python\\Python312\\Lib\\site-packages\\sklearn\\utils\\validation.py:2739: UserWarning: X does not have valid feature names, but LGBMRegressor was fitted with feature names\n",
      "  warnings.warn(\n",
      "[I 2025-08-17 15:07:55,620] Trial 29 finished with value: 1.0000010789293547 and parameters: {'boosting_type': 'dart', 'learning_rate': 0.034458641725102934, 'num_leaves': 92, 'max_depth': 18, 'min_child_samples': 69, 'colsample_bytree': 0.8222897529061399, 'reg_alpha': 2.1488515695161015, 'reg_lambda': 5.3299564144928055}. Best is trial 17 with value: 0.20783413721840632.\n"
     ]
    },
    {
     "name": "stdout",
     "output_type": "stream",
     "text": [
      "Training until validation scores don't improve for 50 rounds\n"
     ]
    },
    {
     "name": "stderr",
     "output_type": "stream",
     "text": [
      "C:\\Users\\Shyam Banerjee\\AppData\\Local\\Programs\\Python\\Python312\\Lib\\site-packages\\sklearn\\utils\\validation.py:2739: UserWarning: X does not have valid feature names, but LGBMRegressor was fitted with feature names\n",
      "  warnings.warn(\n",
      "[I 2025-08-17 15:08:01,027] Trial 30 finished with value: 0.2105089064977979 and parameters: {'boosting_type': 'gbdt', 'learning_rate': 0.023024376410165973, 'num_leaves': 66, 'max_depth': 20, 'min_child_samples': 73, 'colsample_bytree': 0.5383624396001792, 'reg_alpha': 6.418321567505785, 'reg_lambda': 5.9414950041481855}. Best is trial 17 with value: 0.20783413721840632.\n"
     ]
    },
    {
     "name": "stdout",
     "output_type": "stream",
     "text": [
      "Did not meet early stopping. Best iteration is:\n",
      "[998]\tvalid_0's mape: 0.0148295\n",
      "Training until validation scores don't improve for 50 rounds\n"
     ]
    },
    {
     "name": "stderr",
     "output_type": "stream",
     "text": [
      "C:\\Users\\Shyam Banerjee\\AppData\\Local\\Programs\\Python\\Python312\\Lib\\site-packages\\sklearn\\utils\\validation.py:2739: UserWarning: X does not have valid feature names, but LGBMRegressor was fitted with feature names\n",
      "  warnings.warn(\n",
      "[I 2025-08-17 15:08:13,869] Trial 31 finished with value: 0.20805340346657247 and parameters: {'boosting_type': 'gbdt', 'learning_rate': 0.03390883162004224, 'num_leaves': 96, 'max_depth': 13, 'min_child_samples': 100, 'colsample_bytree': 0.6225726260471338, 'reg_alpha': 4.583891693230523, 'reg_lambda': 3.192469746153815}. Best is trial 17 with value: 0.20783413721840632.\n"
     ]
    },
    {
     "name": "stdout",
     "output_type": "stream",
     "text": [
      "Did not meet early stopping. Best iteration is:\n",
      "[999]\tvalid_0's mape: 0.0146185\n",
      "Training until validation scores don't improve for 50 rounds\n"
     ]
    },
    {
     "name": "stderr",
     "output_type": "stream",
     "text": [
      "C:\\Users\\Shyam Banerjee\\AppData\\Local\\Programs\\Python\\Python312\\Lib\\site-packages\\sklearn\\utils\\validation.py:2739: UserWarning: X does not have valid feature names, but LGBMRegressor was fitted with feature names\n",
      "  warnings.warn(\n",
      "[I 2025-08-17 15:08:20,119] Trial 32 finished with value: 0.2083159210615374 and parameters: {'boosting_type': 'gbdt', 'learning_rate': 0.03429146089101938, 'num_leaves': 94, 'max_depth': 12, 'min_child_samples': 100, 'colsample_bytree': 0.6387532348932915, 'reg_alpha': 4.928732868510403, 'reg_lambda': 2.345273291161981}. Best is trial 17 with value: 0.20783413721840632.\n"
     ]
    },
    {
     "name": "stdout",
     "output_type": "stream",
     "text": [
      "Did not meet early stopping. Best iteration is:\n",
      "[1000]\tvalid_0's mape: 0.0146118\n",
      "Training until validation scores don't improve for 50 rounds\n"
     ]
    },
    {
     "name": "stderr",
     "output_type": "stream",
     "text": [
      "C:\\Users\\Shyam Banerjee\\AppData\\Local\\Programs\\Python\\Python312\\Lib\\site-packages\\sklearn\\utils\\validation.py:2739: UserWarning: X does not have valid feature names, but LGBMRegressor was fitted with feature names\n",
      "  warnings.warn(\n",
      "[I 2025-08-17 15:08:24,683] Trial 33 finished with value: 0.2080508743728448 and parameters: {'boosting_type': 'gbdt', 'learning_rate': 0.07568766760348461, 'num_leaves': 87, 'max_depth': 17, 'min_child_samples': 94, 'colsample_bytree': 0.7098701963592342, 'reg_alpha': 4.009971416179697, 'reg_lambda': 2.685592594381228}. Best is trial 17 with value: 0.20783413721840632.\n"
     ]
    },
    {
     "name": "stdout",
     "output_type": "stream",
     "text": [
      "Early stopping, best iteration is:\n",
      "[587]\tvalid_0's mape: 0.0145913\n",
      "Training until validation scores don't improve for 50 rounds\n"
     ]
    },
    {
     "name": "stderr",
     "output_type": "stream",
     "text": [
      "C:\\Users\\Shyam Banerjee\\AppData\\Local\\Programs\\Python\\Python312\\Lib\\site-packages\\sklearn\\utils\\validation.py:2739: UserWarning: X does not have valid feature names, but LGBMRegressor was fitted with feature names\n",
      "  warnings.warn(\n",
      "[I 2025-08-17 15:08:29,829] Trial 34 finished with value: 0.20812397889285217 and parameters: {'boosting_type': 'gbdt', 'learning_rate': 0.07543534859966093, 'num_leaves': 80, 'max_depth': 17, 'min_child_samples': 93, 'colsample_bytree': 0.6997684842102445, 'reg_alpha': 2.9451907765233027, 'reg_lambda': 1.3712881758231568}. Best is trial 17 with value: 0.20783413721840632.\n"
     ]
    },
    {
     "name": "stdout",
     "output_type": "stream",
     "text": [
      "Early stopping, best iteration is:\n",
      "[705]\tvalid_0's mape: 0.014565\n"
     ]
    },
    {
     "name": "stderr",
     "output_type": "stream",
     "text": [
      "C:\\Users\\Shyam Banerjee\\AppData\\Local\\Programs\\Python\\Python312\\Lib\\site-packages\\lightgbm\\callback.py:333: UserWarning: Early stopping is not available in dart mode\n",
      "  _log_warning(\"Early stopping is not available in dart mode\")\n",
      "C:\\Users\\Shyam Banerjee\\AppData\\Local\\Programs\\Python\\Python312\\Lib\\site-packages\\sklearn\\utils\\validation.py:2739: UserWarning: X does not have valid feature names, but LGBMRegressor was fitted with feature names\n",
      "  warnings.warn(\n",
      "[I 2025-08-17 15:08:34,471] Trial 35 finished with value: 1.0000009864292014 and parameters: {'boosting_type': 'dart', 'learning_rate': 0.13245585272563595, 'num_leaves': 89, 'max_depth': 17, 'min_child_samples': 85, 'colsample_bytree': 0.6996541803914383, 'reg_alpha': 1.5084337243138415, 'reg_lambda': 4.843374975095944}. Best is trial 17 with value: 0.20783413721840632.\n"
     ]
    },
    {
     "name": "stdout",
     "output_type": "stream",
     "text": [
      "Training until validation scores don't improve for 50 rounds\n"
     ]
    },
    {
     "name": "stderr",
     "output_type": "stream",
     "text": [
      "C:\\Users\\Shyam Banerjee\\AppData\\Local\\Programs\\Python\\Python312\\Lib\\site-packages\\sklearn\\utils\\validation.py:2739: UserWarning: X does not have valid feature names, but LGBMRegressor was fitted with feature names\n",
      "  warnings.warn(\n",
      "[I 2025-08-17 15:08:36,893] Trial 36 finished with value: 0.2128772159282593 and parameters: {'boosting_type': 'gbdt', 'learning_rate': 0.2384610106976992, 'num_leaves': 74, 'max_depth': 19, 'min_child_samples': 76, 'colsample_bytree': 0.7687893697320453, 'reg_alpha': 3.8460651242739248, 'reg_lambda': 2.801651141155159}. Best is trial 17 with value: 0.20783413721840632.\n"
     ]
    },
    {
     "name": "stdout",
     "output_type": "stream",
     "text": [
      "Early stopping, best iteration is:\n",
      "[207]\tvalid_0's mape: 0.0148504\n",
      "Training until validation scores don't improve for 50 rounds\n"
     ]
    },
    {
     "name": "stderr",
     "output_type": "stream",
     "text": [
      "C:\\Users\\Shyam Banerjee\\AppData\\Local\\Programs\\Python\\Python312\\Lib\\site-packages\\sklearn\\utils\\validation.py:2739: UserWarning: X does not have valid feature names, but LGBMRegressor was fitted with feature names\n",
      "  warnings.warn(\n",
      "[I 2025-08-17 15:08:40,772] Trial 37 finished with value: 0.20954467369950155 and parameters: {'boosting_type': 'gbdt', 'learning_rate': 0.0603636006991819, 'num_leaves': 54, 'max_depth': 15, 'min_child_samples': 94, 'colsample_bytree': 0.902344599109344, 'reg_alpha': 5.471370451117957, 'reg_lambda': 3.792841270046886}. Best is trial 17 with value: 0.20783413721840632.\n"
     ]
    },
    {
     "name": "stdout",
     "output_type": "stream",
     "text": [
      "Early stopping, best iteration is:\n",
      "[643]\tvalid_0's mape: 0.0147208\n",
      "Training until validation scores don't improve for 50 rounds\n"
     ]
    },
    {
     "name": "stderr",
     "output_type": "stream",
     "text": [
      "C:\\Users\\Shyam Banerjee\\AppData\\Local\\Programs\\Python\\Python312\\Lib\\site-packages\\sklearn\\utils\\validation.py:2739: UserWarning: X does not have valid feature names, but LGBMRegressor was fitted with feature names\n",
      "  warnings.warn(\n",
      "[I 2025-08-17 15:08:45,557] Trial 38 finished with value: 0.20828976429076262 and parameters: {'boosting_type': 'gbdt', 'learning_rate': 0.10699879499705328, 'num_leaves': 67, 'max_depth': 15, 'min_child_samples': 35, 'colsample_bytree': 0.8163105047700092, 'reg_alpha': 6.2457343703047705, 'reg_lambda': 2.6716079558672305}. Best is trial 17 with value: 0.20783413721840632.\n"
     ]
    },
    {
     "name": "stdout",
     "output_type": "stream",
     "text": [
      "Early stopping, best iteration is:\n",
      "[716]\tvalid_0's mape: 0.0145729\n"
     ]
    },
    {
     "name": "stderr",
     "output_type": "stream",
     "text": [
      "C:\\Users\\Shyam Banerjee\\AppData\\Local\\Programs\\Python\\Python312\\Lib\\site-packages\\lightgbm\\callback.py:333: UserWarning: Early stopping is not available in dart mode\n",
      "  _log_warning(\"Early stopping is not available in dart mode\")\n",
      "C:\\Users\\Shyam Banerjee\\AppData\\Local\\Programs\\Python\\Python312\\Lib\\site-packages\\sklearn\\utils\\validation.py:2739: UserWarning: X does not have valid feature names, but LGBMRegressor was fitted with feature names\n",
      "  warnings.warn(\n",
      "[I 2025-08-17 15:08:55,320] Trial 39 finished with value: 1.000001075994003 and parameters: {'boosting_type': 'dart', 'learning_rate': 0.045082931078631074, 'num_leaves': 86, 'max_depth': 18, 'min_child_samples': 84, 'colsample_bytree': 0.709801974913793, 'reg_alpha': 3.9184316630418308, 'reg_lambda': 1.4392313882180707}. Best is trial 17 with value: 0.20783413721840632.\n"
     ]
    },
    {
     "name": "stdout",
     "output_type": "stream",
     "text": [
      "Training until validation scores don't improve for 50 rounds\n"
     ]
    },
    {
     "name": "stderr",
     "output_type": "stream",
     "text": [
      "C:\\Users\\Shyam Banerjee\\AppData\\Local\\Programs\\Python\\Python312\\Lib\\site-packages\\sklearn\\utils\\validation.py:2739: UserWarning: X does not have valid feature names, but LGBMRegressor was fitted with feature names\n",
      "  warnings.warn(\n",
      "[I 2025-08-17 15:08:57,966] Trial 40 finished with value: 0.20958855225872813 and parameters: {'boosting_type': 'gbdt', 'learning_rate': 0.2021695121855654, 'num_leaves': 82, 'max_depth': 18, 'min_child_samples': 64, 'colsample_bytree': 0.8110087437193169, 'reg_alpha': 2.8348909645735394, 'reg_lambda': 5.104268505929491}. Best is trial 17 with value: 0.20783413721840632.\n"
     ]
    },
    {
     "name": "stdout",
     "output_type": "stream",
     "text": [
      "Early stopping, best iteration is:\n",
      "[177]\tvalid_0's mape: 0.0146622\n",
      "Training until validation scores don't improve for 50 rounds\n",
      "Did not meet early stopping. Best iteration is:\n",
      "[997]\tvalid_0's mape: 0.0145976\n"
     ]
    },
    {
     "name": "stderr",
     "output_type": "stream",
     "text": [
      "C:\\Users\\Shyam Banerjee\\AppData\\Local\\Programs\\Python\\Python312\\Lib\\site-packages\\sklearn\\utils\\validation.py:2739: UserWarning: X does not have valid feature names, but LGBMRegressor was fitted with feature names\n",
      "  warnings.warn(\n",
      "[I 2025-08-17 15:09:04,778] Trial 41 finished with value: 0.20746368106337934 and parameters: {'boosting_type': 'gbdt', 'learning_rate': 0.02530337369858133, 'num_leaves': 97, 'max_depth': 13, 'min_child_samples': 95, 'colsample_bytree': 0.6108282651591393, 'reg_alpha': 4.537874616149844, 'reg_lambda': 3.004518400405978}. Best is trial 41 with value: 0.20746368106337934.\n"
     ]
    },
    {
     "name": "stdout",
     "output_type": "stream",
     "text": [
      "Training until validation scores don't improve for 50 rounds\n"
     ]
    },
    {
     "name": "stderr",
     "output_type": "stream",
     "text": [
      "C:\\Users\\Shyam Banerjee\\AppData\\Local\\Programs\\Python\\Python312\\Lib\\site-packages\\sklearn\\utils\\validation.py:2739: UserWarning: X does not have valid feature names, but LGBMRegressor was fitted with feature names\n",
      "  warnings.warn(\n",
      "[I 2025-08-17 15:09:12,291] Trial 42 finished with value: 0.2080945960610732 and parameters: {'boosting_type': 'gbdt', 'learning_rate': 0.024894084229596256, 'num_leaves': 95, 'max_depth': 16, 'min_child_samples': 78, 'colsample_bytree': 0.6701646601383384, 'reg_alpha': 5.182136404760717, 'reg_lambda': 0.9348119740282899}. Best is trial 41 with value: 0.20746368106337934.\n"
     ]
    },
    {
     "name": "stdout",
     "output_type": "stream",
     "text": [
      "Did not meet early stopping. Best iteration is:\n",
      "[997]\tvalid_0's mape: 0.014619\n",
      "Training until validation scores don't improve for 50 rounds\n",
      "Did not meet early stopping. Best iteration is:\n",
      "[1000]\tvalid_0's mape: 0.0147009\n"
     ]
    },
    {
     "name": "stderr",
     "output_type": "stream",
     "text": [
      "C:\\Users\\Shyam Banerjee\\AppData\\Local\\Programs\\Python\\Python312\\Lib\\site-packages\\sklearn\\utils\\validation.py:2739: UserWarning: X does not have valid feature names, but LGBMRegressor was fitted with feature names\n",
      "  warnings.warn(\n",
      "[I 2025-08-17 15:09:19,483] Trial 43 finished with value: 0.20860617943750634 and parameters: {'boosting_type': 'gbdt', 'learning_rate': 0.014558763760354155, 'num_leaves': 89, 'max_depth': 13, 'min_child_samples': 86, 'colsample_bytree': 0.5546797895245454, 'reg_alpha': 3.535867931160317, 'reg_lambda': 4.144664467940451}. Best is trial 41 with value: 0.20746368106337934.\n"
     ]
    },
    {
     "name": "stdout",
     "output_type": "stream",
     "text": [
      "Training until validation scores don't improve for 50 rounds\n"
     ]
    },
    {
     "name": "stderr",
     "output_type": "stream",
     "text": [
      "C:\\Users\\Shyam Banerjee\\AppData\\Local\\Programs\\Python\\Python312\\Lib\\site-packages\\sklearn\\utils\\validation.py:2739: UserWarning: X does not have valid feature names, but LGBMRegressor was fitted with feature names\n",
      "  warnings.warn(\n",
      "[I 2025-08-17 15:09:25,013] Trial 44 finished with value: 0.2100271306938866 and parameters: {'boosting_type': 'gbdt', 'learning_rate': 0.02036111565766559, 'num_leaves': 76, 'max_depth': 11, 'min_child_samples': 94, 'colsample_bytree': 0.609454012143416, 'reg_alpha': 7.535037310052034, 'reg_lambda': 9.909654800548683}. Best is trial 41 with value: 0.20746368106337934.\n"
     ]
    },
    {
     "name": "stdout",
     "output_type": "stream",
     "text": [
      "Did not meet early stopping. Best iteration is:\n",
      "[1000]\tvalid_0's mape: 0.0148136\n"
     ]
    },
    {
     "name": "stderr",
     "output_type": "stream",
     "text": [
      "C:\\Users\\Shyam Banerjee\\AppData\\Local\\Programs\\Python\\Python312\\Lib\\site-packages\\lightgbm\\callback.py:333: UserWarning: Early stopping is not available in dart mode\n",
      "  _log_warning(\"Early stopping is not available in dart mode\")\n",
      "C:\\Users\\Shyam Banerjee\\AppData\\Local\\Programs\\Python\\Python312\\Lib\\site-packages\\sklearn\\utils\\validation.py:2739: UserWarning: X does not have valid feature names, but LGBMRegressor was fitted with feature names\n",
      "  warnings.warn(\n",
      "[I 2025-08-17 15:09:29,165] Trial 45 finished with value: 0.9998888025056669 and parameters: {'boosting_type': 'dart', 'learning_rate': 0.06286348234954678, 'num_leaves': 96, 'max_depth': 15, 'min_child_samples': 95, 'colsample_bytree': 0.8813900801953951, 'reg_alpha': 4.277734457371693, 'reg_lambda': 3.6230197273630664}. Best is trial 41 with value: 0.20746368106337934.\n"
     ]
    },
    {
     "name": "stdout",
     "output_type": "stream",
     "text": [
      "Training until validation scores don't improve for 50 rounds\n",
      "Did not meet early stopping. Best iteration is:\n",
      "[1000]\tvalid_0's mape: 0.0148822\n"
     ]
    },
    {
     "name": "stderr",
     "output_type": "stream",
     "text": [
      "C:\\Users\\Shyam Banerjee\\AppData\\Local\\Programs\\Python\\Python312\\Lib\\site-packages\\sklearn\\utils\\validation.py:2739: UserWarning: X does not have valid feature names, but LGBMRegressor was fitted with feature names\n",
      "  warnings.warn(\n",
      "[I 2025-08-17 15:09:36,426] Trial 46 finished with value: 0.2107731737195487 and parameters: {'boosting_type': 'gbdt', 'learning_rate': 0.012134484933713295, 'num_leaves': 100, 'max_depth': 10, 'min_child_samples': 82, 'colsample_bytree': 0.6494826337694518, 'reg_alpha': 5.9154512629266645, 'reg_lambda': 2.0286945034800343}. Best is trial 41 with value: 0.20746368106337934.\n"
     ]
    },
    {
     "name": "stdout",
     "output_type": "stream",
     "text": [
      "Training until validation scores don't improve for 50 rounds\n"
     ]
    },
    {
     "name": "stderr",
     "output_type": "stream",
     "text": [
      "C:\\Users\\Shyam Banerjee\\AppData\\Local\\Programs\\Python\\Python312\\Lib\\site-packages\\sklearn\\utils\\validation.py:2739: UserWarning: X does not have valid feature names, but LGBMRegressor was fitted with feature names\n",
      "  warnings.warn(\n",
      "[I 2025-08-17 15:09:43,511] Trial 47 finished with value: 0.2144522106256356 and parameters: {'boosting_type': 'gbdt', 'learning_rate': 0.007653659627167682, 'num_leaves': 87, 'max_depth': 17, 'min_child_samples': 48, 'colsample_bytree': 0.4910223687406531, 'reg_alpha': 4.787005909384705, 'reg_lambda': 2.6891031267214203}. Best is trial 41 with value: 0.20746368106337934.\n"
     ]
    },
    {
     "name": "stdout",
     "output_type": "stream",
     "text": [
      "Did not meet early stopping. Best iteration is:\n",
      "[1000]\tvalid_0's mape: 0.0151754\n",
      "Training until validation scores don't improve for 50 rounds\n"
     ]
    },
    {
     "name": "stderr",
     "output_type": "stream",
     "text": [
      "C:\\Users\\Shyam Banerjee\\AppData\\Local\\Programs\\Python\\Python312\\Lib\\site-packages\\sklearn\\utils\\validation.py:2739: UserWarning: X does not have valid feature names, but LGBMRegressor was fitted with feature names\n",
      "  warnings.warn(\n",
      "[I 2025-08-17 15:09:49,341] Trial 48 finished with value: 0.2064713232089707 and parameters: {'boosting_type': 'gbdt', 'learning_rate': 0.039704323688385196, 'num_leaves': 58, 'max_depth': 13, 'min_child_samples': 54, 'colsample_bytree': 0.6894545602296008, 'reg_alpha': 2.3524068427461584, 'reg_lambda': 5.650577165845525}. Best is trial 48 with value: 0.2064713232089707.\n"
     ]
    },
    {
     "name": "stdout",
     "output_type": "stream",
     "text": [
      "Did not meet early stopping. Best iteration is:\n",
      "[975]\tvalid_0's mape: 0.0144858\n",
      "Training until validation scores don't improve for 50 rounds\n"
     ]
    },
    {
     "name": "stderr",
     "output_type": "stream",
     "text": [
      "C:\\Users\\Shyam Banerjee\\AppData\\Local\\Programs\\Python\\Python312\\Lib\\site-packages\\sklearn\\utils\\validation.py:2739: UserWarning: X does not have valid feature names, but LGBMRegressor was fitted with feature names\n",
      "  warnings.warn(\n",
      "[I 2025-08-17 15:09:55,194] Trial 49 finished with value: 0.206403056800867 and parameters: {'boosting_type': 'gbdt', 'learning_rate': 0.04183029612531833, 'num_leaves': 71, 'max_depth': 13, 'min_child_samples': 55, 'colsample_bytree': 0.502175231350515, 'reg_alpha': 2.2625959743900292, 'reg_lambda': 6.50859453280249}. Best is trial 49 with value: 0.206403056800867.\n"
     ]
    },
    {
     "name": "stdout",
     "output_type": "stream",
     "text": [
      "Did not meet early stopping. Best iteration is:\n",
      "[999]\tvalid_0's mape: 0.0144925\n",
      "Validation MAPE: 20.64 %\n",
      "Best Hyperparameters: {'boosting_type': 'gbdt', 'learning_rate': 0.04183029612531833, 'num_leaves': 71, 'max_depth': 13, 'min_child_samples': 55, 'colsample_bytree': 0.502175231350515, 'reg_alpha': 2.2625959743900292, 'reg_lambda': 6.50859453280249}\n"
     ]
    }
   ],
   "source": [
    "import optuna\n",
    "import lightgbm as lgb\n",
    "from sklearn.model_selection import train_test_split\n",
    "from sklearn.metrics import mean_absolute_percentage_error\n",
    "from lightgbm import early_stopping\n",
    "\n",
    "pipeline = Pipeline([\n",
    "    (\"preprocessor\", preprocessor)\n",
    "])\n",
    "\n",
    "# Step 1: Define objective\n",
    "def objective(trial):\n",
    "    # Step 2: Suggest hyperparameters\n",
    "    param = {\n",
    "        'objective': 'regression',\n",
    "        'metric': 'mape',\n",
    "        'boosting_type': trial.suggest_categorical('boosting_type', ['gbdt', 'dart']),\n",
    "        'learning_rate': trial.suggest_float('learning_rate', 1e-3, 0.3, log=True),\n",
    "        'num_leaves': trial.suggest_int('num_leaves', 10, 100),\n",
    "        'max_depth': trial.suggest_int('max_depth', 3, 20),\n",
    "        'min_child_samples': trial.suggest_int('min_child_samples', 5, 100),\n",
    "        'colsample_bytree': trial.suggest_float('colsample_bytree', 0.4, 1.0),\n",
    "        'reg_alpha': trial.suggest_float('reg_alpha', 0.0, 10.0),\n",
    "        'reg_lambda': trial.suggest_float('reg_lambda', 0.0, 10.0),\n",
    "        'n_estimators': 1000,\n",
    "        'verbosity': -1,\n",
    "    }\n",
    "\n",
    "    # Step 3: Train-validation split\n",
    "    X_train_sub, X_valid_sub, y_train_sub, y_valid_sub = train_test_split(X, y, test_size=0.2, random_state=42)\n",
    "\n",
    "    # Step 4: Preprocess the data\n",
    "    X_train_processed = pipeline.fit_transform(X_train_sub)\n",
    "    X_valid_processed = pipeline.transform(X_valid_sub)\n",
    "\n",
    "    # Step 5: Train LightGBM\n",
    "    model = lgb.LGBMRegressor(**param)\n",
    "    model.fit(\n",
    "        X_train_processed, y_train_sub,\n",
    "        eval_set=[(X_valid_processed, y_valid_sub)],\n",
    "        eval_metric='mape',\n",
    "        callbacks=[early_stopping(stopping_rounds=50)],\n",
    "    )\n",
    "\n",
    "    # Step 6: Evaluate\n",
    "    preds = model.predict(X_valid_processed)\n",
    "    mape = mean_absolute_percentage_error(np.expm1(y_valid_sub), np.expm1(preds))\n",
    "    return mape\n",
    "\n",
    "study = optuna.create_study(direction='minimize')\n",
    "study.optimize(objective, n_trials=50)  \n",
    "\n",
    "print(f\"Validation MAPE: {study.best_value*100:.2f} %\")\n",
    "print(\"Best Hyperparameters:\", study.best_params)"
   ]
  },
  {
   "cell_type": "code",
   "execution_count": 23,
   "id": "ade70e5c-8b57-4bc1-8dae-e275aeecaeed",
   "metadata": {},
   "outputs": [
    {
     "name": "stderr",
     "output_type": "stream",
     "text": [
      "C:\\Users\\Shyam Banerjee\\AppData\\Local\\Programs\\Python\\Python312\\Lib\\site-packages\\sklearn\\utils\\validation.py:2739: UserWarning: X does not have valid feature names, but SelectFromModel was fitted with feature names\n",
      "  warnings.warn(\n"
     ]
    },
    {
     "name": "stdout",
     "output_type": "stream",
     "text": [
      "Validation MAPE: 20.98 %\n"
     ]
    },
    {
     "name": "stderr",
     "output_type": "stream",
     "text": [
      "C:\\Users\\Shyam Banerjee\\AppData\\Local\\Programs\\Python\\Python312\\Lib\\site-packages\\sklearn\\utils\\validation.py:2739: UserWarning: X does not have valid feature names, but SelectFromModel was fitted with feature names\n",
      "  warnings.warn(\n",
      "C:\\Users\\Shyam Banerjee\\AppData\\Local\\Programs\\Python\\Python312\\Lib\\site-packages\\sklearn\\utils\\validation.py:2739: UserWarning: X does not have valid feature names, but LGBMRegressor was fitted with feature names\n",
      "  warnings.warn(\n"
     ]
    }
   ],
   "source": [
    "lgb_best_log = Pipeline(steps=[\n",
    "    ('preprocessor', preprocessor),\n",
    "    ('feature_select', feature_selector),\n",
    "    ('regressor', lgb.LGBMRegressor(**study.best_params, n_estimators=1000))\n",
    "])\n",
    "\n",
    "lgb_best_log.fit(X_train, y_train)\n",
    "y_pred=lgb_best_log.predict(X_val)\n",
    "\n",
    "print(f\"Validation MAPE: {mean_absolute_percentage_error(np.expm1(y_val), np.expm1(y_pred))*100:.2f} %\")"
   ]
  },
  {
   "cell_type": "code",
   "execution_count": 25,
   "id": "9f8435ec-8715-4797-9f4d-ff00c290c0f6",
   "metadata": {},
   "outputs": [
    {
     "data": {
      "text/plain": [
       "['best_lgbm_log_model.pkl']"
      ]
     },
     "execution_count": 25,
     "metadata": {},
     "output_type": "execute_result"
    }
   ],
   "source": [
    "import joblib\n",
    "joblib.dump(lgb_best_log, \"best_lgbm_log_model.pkl\")"
   ]
  },
  {
   "cell_type": "code",
   "execution_count": 34,
   "id": "4d86680e-89e6-4f49-8379-20a15db44f93",
   "metadata": {},
   "outputs": [
    {
     "name": "stdout",
     "output_type": "stream",
     "text": [
      "Saving figure Actual vs Predicted Farmer Income plot_2\n"
     ]
    },
    {
     "data": {
      "image/png": "[encoded data removed]",
      "text/plain": [
       "<Figure size 800x600 with 1 Axes>"
      ]
     },
     "metadata": {},
     "output_type": "display_data"
    }
   ],
   "source": [
    "import matplotlib.pyplot as plt\n",
    "\n",
    "# Scatter plot\n",
    "plt.figure(figsize=(8, 6))\n",
    "plt.scatter(np.expm1(y_pred), np.expm1(y_val), alpha=0.6, color='royalblue')\n",
    "plt.plot([np.expm1(y_val).min(), np.expm1(y_val).max()], [np.expm1(y_pred).min(), np.expm1(y_pred).max()], 'r--', lw=2)  # Ideal line\n",
    "plt.ylabel('Actual Income')\n",
    "plt.xlabel('Predicted Income')\n",
    "plt.title('Actual vs Predicted: Farmer Income')\n",
    "plt.grid(True)\n",
    "plt.tight_layout()\n",
    "\n",
    "save_fig(\"Actual vs Predicted Farmer Income plot_2\")\n",
    "plt.show()\n"
   ]
  },
  {
   "cell_type": "code",
   "execution_count": 31,
   "id": "46de6063-1b30-461d-a81b-8fa5b5cf6fb9",
   "metadata": {},
   "outputs": [
    {
     "name": "stdout",
     "output_type": "stream",
     "text": [
      "Saving figure residual_plot_2\n"
     ]
    },
    {
     "data": {
      "image/png": "[encoded data removed]",
      "text/plain": [
       "<Figure size 800x600 with 1 Axes>"
      ]
     },
     "metadata": {},
     "output_type": "display_data"
    }
   ],
   "source": [
    "import matplotlib.pyplot as plt\n",
    "import numpy as np\n",
    "\n",
    "# Calculate residuals\n",
    "residuals = np.expm1(y_val) - np.expm1(y_pred)\n",
    "\n",
    "# Plot\n",
    "plt.figure(figsize=(8, 6))\n",
    "plt.scatter(np.expm1(y_pred), residuals, alpha=0.6, color='darkorange')\n",
    "plt.axhline(0, color='red', linestyle='--', linewidth=2)  # Zero residual line\n",
    "plt.xlabel('Predicted Income')\n",
    "plt.ylabel('Residuals (Actual - Predicted)')\n",
    "plt.title('Residual Plot')\n",
    "plt.grid(True)\n",
    "plt.tight_layout()\n",
    "\n",
    "save_fig(\"residual_plot_2\")\n",
    "plt.show()\n"
   ]
  },
  {
   "cell_type": "markdown",
   "id": "0cf205b0-68a1-40b4-87c3-13057a260f99",
   "metadata": {},
   "source": [
    "## Learning Curve (LoC)"
   ]
  },
  {
   "cell_type": "code",
   "execution_count": 33,
   "id": "0223362a-a96d-4da6-9b78-63f62477ccc5",
   "metadata": {},
   "outputs": [
    {
     "name": "stdout",
     "output_type": "stream",
     "text": [
      "Saving figure Learning Curve lgbm plot_2\n"
     ]
    },
    {
     "data": {
      "image/png": "[encoded data removed]",
      "text/plain": [
       "<Figure size 1000x600 with 1 Axes>"
      ]
     },
     "metadata": {},
     "output_type": "display_data"
    }
   ],
   "source": [
    "from sklearn.model_selection import learning_curve\n",
    "\n",
    "# Get learning curve metrics\n",
    "train_sizes, train_scores, test_scores = learning_curve(\n",
    "    estimator=lgb_best_log,\n",
    "    X=X,\n",
    "    y=y,\n",
    "    train_sizes=np.linspace(0.1, 1.0, 8),\n",
    "    cv=5,\n",
    "    scoring='neg_mean_absolute_percentage_error',\n",
    "    n_jobs=-1\n",
    ")\n",
    "\n",
    "# Convert negative MAPE to positive\n",
    "train_scores = -train_scores\n",
    "test_scores = -test_scores\n",
    "\n",
    "train_mean = np.mean(train_scores, axis=1)\n",
    "train_std = np.std(train_scores, axis=1)\n",
    "test_mean = np.mean(test_scores, axis=1)\n",
    "test_std = np.std(test_scores, axis=1)\n",
    "\n",
    "# Plot\n",
    "plt.figure(figsize=(10, 6))\n",
    "plt.plot(train_sizes, train_mean, label='Training MAPE', color='blue')\n",
    "plt.fill_between(train_sizes, train_mean - train_std, train_mean + train_std, alpha=0.2, color='blue')\n",
    "\n",
    "plt.plot(train_sizes, test_mean, label='Validation MAPE', color='orange')\n",
    "plt.fill_between(train_sizes, test_mean - test_std, test_mean + test_std, alpha=0.2, color='orange')\n",
    "\n",
    "plt.xlabel(\"Training Set Size\")\n",
    "plt.ylabel(\"MAPE\")\n",
    "plt.title(\"Learning Curve: LightGBM\")\n",
    "plt.legend()\n",
    "plt.grid(True)\n",
    "plt.tight_layout()\n",
    "\n",
    "save_fig(\"Learning Curve lgbm plot_2\")\n",
    "plt.show()"
   ]
  },
  {
   "cell_type": "code",
   "execution_count": null,
   "id": "8a4c0311-6dda-4148-a424-c361ec77b84e",
   "metadata": {},
   "outputs": [],
   "source": []
  }
 ],
 "metadata": {
  "kernelspec": {
   "display_name": "Python 3 (ipykernel)",
   "language": "python",
   "name": "python3"
  },
  "language_info": {
   "codemirror_mode": {
    "name": "ipython",
    "version": 3
   },
   "file_extension": ".py",
   "mimetype": "text/x-python",
   "name": "python",
   "nbconvert_exporter": "python",
   "pygments_lexer": "ipython3",
   "version": "3.12.10"
  }
 },
 "nbformat": 4,
 "nbformat_minor": 5
}
