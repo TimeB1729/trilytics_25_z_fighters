{
 "cells": [
  {
   "cell_type": "markdown",
   "id": "c031537b-7d69-41ce-941a-298adcfd79e9",
   "metadata": {},
   "source": [
    "# Initializing environment"
   ]
  },
  {
   "cell_type": "code",
   "execution_count": 1,
   "id": "7a764066-b985-434d-8256-e84eb08d2a88",
   "metadata": {},
   "outputs": [],
   "source": [
    "import numpy as np\n",
    "import os\n",
    "\n",
    "# To make the output stable across other runs\n",
    "np.random.seed(42)\n",
    "\n",
    "# To plot pretty figures\n",
    "%matplotlib inline\n",
    "import matplotlib as mpl\n",
    "import matplotlib.pyplot as plt\n",
    "mpl.rc('axes', labelsize=14)\n",
    "mpl.rc('xtick', labelsize=12)\n",
    "mpl.rc('ytick', labelsize=12)\n",
    "\n",
    "# Where to save the figures\n",
    "PROJECT_ROOT_DIR = \".\"\n",
    "CHAPTER_ID = \"training_farmer_income_models\"\n",
    "IMAGES_PATH = os.path.join(PROJECT_ROOT_DIR, \"images\", CHAPTER_ID)\n",
    "os.makedirs(IMAGES_PATH, exist_ok=True)\n",
    "\n",
    "def save_fig(fig_id, tight_layout=True, fig_extension=\"png\", resolution=300):\n",
    "    path = os.path.join(IMAGES_PATH, fig_id + \".\" + fig_extension)\n",
    "    print(\"Saving figure\", fig_id)\n",
    "    if tight_layout:\n",
    "        plt.tight_layout()\n",
    "    plt.savefig(path, format=fig_extension, dpi=resolution)"
   ]
  },
  {
   "cell_type": "markdown",
   "id": "2f78c0e8-0bde-4719-8779-0014abcceae8",
   "metadata": {},
   "source": [
    "## Loading dataset"
   ]
  },
  {
   "cell_type": "code",
   "execution_count": 2,
   "id": "f06ee7f2-4c9b-44a1-9a51-0c2416116d5d",
   "metadata": {},
   "outputs": [],
   "source": [
    "import pandas as pd\n",
    "train_df = pd.read_excel('Pearl Challenge data with dictionary.xlsx', sheet_name='TrainData')\n",
    "test_df = pd.read_excel('Pearl Challenge data with dictionary.xlsx', sheet_name='TestData')"
   ]
  },
  {
   "cell_type": "markdown",
   "id": "cc880ffa-d817-4c0c-853e-98e434de4a50",
   "metadata": {},
   "source": [
    "# Feature engineering"
   ]
  },
  {
   "cell_type": "code",
   "execution_count": 6,
   "id": "e2674c12-63e4-4144-af1f-d7ee189c18da",
   "metadata": {},
   "outputs": [
    {
     "name": "stdout",
     "output_type": "stream",
     "text": [
      "99.9th percentile cutoff: 25000000.0\n"
     ]
    }
   ],
   "source": [
    "drop_cols = ['FarmerID', 'Zipcode', 'CITY', 'DISTRICT', 'VILLAGE', 'Location']\n",
    "target = 'Target_Variable/Total Income'\n",
    "\n",
    "# Compute quantile cutoff on original (non-logged) target\n",
    "cutoff = train_df[target].quantile(0.999)   # top 0.1% tile\n",
    "print(\"99.9th percentile cutoff:\", cutoff)\n",
    "\n",
    "# Split into normal vs extreme\n",
    "normal_idx = train_df[target] <= cutoff\n",
    "extreme_idx = ~normal_idx\n",
    "\n",
    "X = train_df.drop(columns=[target] + drop_cols)\n",
    "y = np.log1p(train_df[target])\n",
    "\n",
    "X_normal, y_normal = X.loc[normal_idx], y.loc[normal_idx]\n",
    "X_extreme, y_extreme = X.loc[extreme_idx], y.loc[extreme_idx]"
   ]
  },
  {
   "cell_type": "code",
   "execution_count": 7,
   "id": "fde1f3cf-b78f-4ab9-983e-f7e608f3ecdc",
   "metadata": {},
   "outputs": [],
   "source": [
    "cat_cols = X.select_dtypes(include='object').columns.tolist()\n",
    "num_cols = X.select_dtypes(include=['int64', 'float64']).columns.tolist()"
   ]
  },
  {
   "cell_type": "markdown",
   "id": "50d52478-581c-4fc0-bbda-cd26d01cc30a",
   "metadata": {},
   "source": [
    "## Preprocessing data"
   ]
  },
  {
   "cell_type": "code",
   "execution_count": 10,
   "id": "ad94f92f-9999-4325-8f81-e7ab853c4daf",
   "metadata": {},
   "outputs": [],
   "source": [
    "from sklearn.pipeline import Pipeline\n",
    "from sklearn.compose import ColumnTransformer\n",
    "from sklearn.preprocessing import OneHotEncoder, RobustScaler\n",
    "from sklearn.impute import SimpleImputer\n",
    "from sklearn.model_selection import train_test_split\n",
    "\n",
    "numeric_transformer = Pipeline(steps=[\n",
    "    ('imputer', SimpleImputer(strategy='median')),\n",
    "    ('scaler', RobustScaler())\n",
    "])\n",
    "\n",
    "categorical_transformer = Pipeline(steps=[\n",
    "    ('imputer', SimpleImputer(strategy='most_frequent')),\n",
    "    ('onehot', OneHotEncoder(handle_unknown='ignore'))\n",
    "])\n",
    "\n",
    "preprocessor = ColumnTransformer(\n",
    "    transformers=[\n",
    "        ('num', numeric_transformer, num_cols),\n",
    "        ('cat', categorical_transformer, cat_cols)\n",
    "    ]\n",
    ")\n",
    "\n",
    "X_train, X_val, y_train, y_val = train_test_split(X_normal, y_normal, test_size=0.2, random_state=42)"
   ]
  },
  {
   "cell_type": "markdown",
   "id": "1f6d2899-f713-4f4a-86af-f727e3b65cfb",
   "metadata": {},
   "source": [
    "## Loading pre-saved model"
   ]
  },
  {
   "cell_type": "code",
   "execution_count": 9,
   "id": "a1e13c10-9258-4ec5-bbb1-2d50420091c4",
   "metadata": {},
   "outputs": [],
   "source": []
  },
  {
   "cell_type": "code",
   "execution_count": null,
   "id": "5770ab86-5e19-48d3-9dc3-6896e06be0e9",
   "metadata": {},
   "outputs": [],
   "source": []
  }
 ],
 "metadata": {
  "kernelspec": {
   "display_name": "Python 3 (ipykernel)",
   "language": "python",
   "name": "python3"
  },
  "language_info": {
   "codemirror_mode": {
    "name": "ipython",
    "version": 3
   },
   "file_extension": ".py",
   "mimetype": "text/x-python",
   "name": "python",
   "nbconvert_exporter": "python",
   "pygments_lexer": "ipython3",
   "version": "3.12.10"
  }
 },
 "nbformat": 4,
 "nbformat_minor": 5
}
